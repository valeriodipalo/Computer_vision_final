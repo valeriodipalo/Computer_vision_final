{
 "cells": [
  {
   "cell_type": "code",
   "execution_count": 2,
   "id": "128516af",
   "metadata": {
    "pycharm": {
     "name": "#%%\n"
    }
   },
   "outputs": [],
   "source": [
    "# imports\n",
    "import pandas as pd\n",
    "import json"
   ]
  },
  {
   "cell_type": "markdown",
   "id": "6145486b",
   "metadata": {
    "pycharm": {
     "name": "#%% md\n"
    }
   },
   "source": [
    "## Labels"
   ]
  },
  {
   "cell_type": "code",
   "execution_count": 7,
   "id": "a1559c74",
   "metadata": {
    "pycharm": {
     "name": "#%%\n"
    }
   },
   "outputs": [
    {
     "data": {
      "text/plain": "dict_keys(['labelInfo'])"
     },
     "execution_count": 7,
     "metadata": {},
     "output_type": "execute_result"
    }
   ],
   "source": [
    "# loading the file\n",
    "labels = json.load(open(\"Data/fgvc4_iMat.label_map.json\"))\n",
    "labels.keys()"
   ]
  },
  {
   "cell_type": "markdown",
   "id": "2e06ff86",
   "metadata": {
    "pycharm": {
     "name": "#%% md\n"
    }
   },
   "source": [
    "It is a dictionary with only one key (`labelInfo`) containing another dictionary. The inner dictionary contains all labels names and their corresponding ID. We transform the inner dict into a dataframe."
   ]
  },
  {
   "cell_type": "code",
   "execution_count": 4,
   "id": "f8322403",
   "metadata": {
    "pycharm": {
     "name": "#%%\n"
    }
   },
   "outputs": [
    {
     "data": {
      "text/html": [
       "<div>\n",
       "<style scoped>\n",
       "    .dataframe tbody tr th:only-of-type {\n",
       "        vertical-align: middle;\n",
       "    }\n",
       "\n",
       "    .dataframe tbody tr th {\n",
       "        vertical-align: top;\n",
       "    }\n",
       "\n",
       "    .dataframe thead th {\n",
       "        text-align: right;\n",
       "    }\n",
       "</style>\n",
       "<table border=\"1\" class=\"dataframe\">\n",
       "  <thead>\n",
       "    <tr style=\"text-align: right;\">\n",
       "      <th></th>\n",
       "      <th>labelName</th>\n",
       "      <th>labelId</th>\n",
       "    </tr>\n",
       "  </thead>\n",
       "  <tbody>\n",
       "    <tr>\n",
       "      <th>0</th>\n",
       "      <td>men</td>\n",
       "      <td>1</td>\n",
       "    </tr>\n",
       "    <tr>\n",
       "      <th>1</th>\n",
       "      <td>adult</td>\n",
       "      <td>2</td>\n",
       "    </tr>\n",
       "    <tr>\n",
       "      <th>2</th>\n",
       "      <td>black</td>\n",
       "      <td>3</td>\n",
       "    </tr>\n",
       "    <tr>\n",
       "      <th>3</th>\n",
       "      <td>women</td>\n",
       "      <td>4</td>\n",
       "    </tr>\n",
       "    <tr>\n",
       "      <th>4</th>\n",
       "      <td>flat</td>\n",
       "      <td>5</td>\n",
       "    </tr>\n",
       "  </tbody>\n",
       "</table>\n",
       "</div>"
      ],
      "text/plain": [
       "  labelName  labelId\n",
       "0       men        1\n",
       "1     adult        2\n",
       "2     black        3\n",
       "3     women        4\n",
       "4      flat        5"
      ]
     },
     "execution_count": 4,
     "metadata": {},
     "output_type": "execute_result"
    }
   ],
   "source": [
    "# turning the dict into a df\n",
    "labels_df = pd.DataFrame.from_dict(labels['labelInfo'])\n",
    "\n",
    "# casting str into int\n",
    "labels_df = labels_df.astype({'labelId': int})\n",
    "labels_df.head()"
   ]
  },
  {
   "cell_type": "code",
   "execution_count": 5,
   "id": "56b9b7d5",
   "metadata": {
    "pycharm": {
     "name": "#%%\n"
    }
   },
   "outputs": [
    {
     "data": {
      "text/plain": [
       "381"
      ]
     },
     "execution_count": 5,
     "metadata": {},
     "output_type": "execute_result"
    }
   ],
   "source": [
    "len(labels_df)"
   ]
  },
  {
   "cell_type": "markdown",
   "id": "077a1c07",
   "metadata": {
    "pycharm": {
     "name": "#%% md\n"
    }
   },
   "source": [
    "There are 381 different labels, each of them has a corresponding label ID."
   ]
  },
  {
   "cell_type": "markdown",
   "id": "c9e2cc02",
   "metadata": {
    "pycharm": {
     "name": "#%% md\n"
    }
   },
   "source": [
    "## Tasks"
   ]
  },
  {
   "cell_type": "code",
   "execution_count": null,
   "id": "c80a1928",
   "metadata": {
    "pycharm": {
     "name": "#%%\n",
     "is_executing": true
    }
   },
   "outputs": [],
   "source": [
    "# loading the file\n",
    "tasks = json.load(open(\"Data\\imaterialist-challenge-FGVC2017/fgvc4_iMat.task_map.json\"))\n",
    "tasks.keys()"
   ]
  },
  {
   "cell_type": "markdown",
   "id": "e16890f8",
   "metadata": {
    "pycharm": {
     "name": "#%% md\n"
    }
   },
   "source": [
    "It is a dictionary with only one key (`taskInfo`) containing another dictionary. The inner dictionary contains all task names and their corresponding ID. We transform the inner dict into a dataframe."
   ]
  },
  {
   "cell_type": "code",
   "execution_count": 7,
   "id": "c0959b86",
   "metadata": {
    "pycharm": {
     "name": "#%%\n"
    }
   },
   "outputs": [],
   "source": [
    "def f(x):\n",
    "    return x.split(\":\")[0][0], x.split(\":\")[0][1]"
   ]
  },
  {
   "cell_type": "code",
   "execution_count": 8,
   "id": "9bbbeee1",
   "metadata": {
    "pycharm": {
     "name": "#%%\n"
    }
   },
   "outputs": [
    {
     "data": {
      "text/html": [
       "<div>\n",
       "<style scoped>\n",
       "    .dataframe tbody tr th:only-of-type {\n",
       "        vertical-align: middle;\n",
       "    }\n",
       "\n",
       "    .dataframe tbody tr th {\n",
       "        vertical-align: top;\n",
       "    }\n",
       "\n",
       "    .dataframe thead th {\n",
       "        text-align: right;\n",
       "    }\n",
       "</style>\n",
       "<table border=\"1\" class=\"dataframe\">\n",
       "  <thead>\n",
       "    <tr style=\"text-align: right;\">\n",
       "      <th></th>\n",
       "      <th>taskName</th>\n",
       "      <th>taskId</th>\n",
       "      <th>category</th>\n",
       "      <th>label_to_predict</th>\n",
       "    </tr>\n",
       "  </thead>\n",
       "  <tbody>\n",
       "    <tr>\n",
       "      <th>0</th>\n",
       "      <td>shoe:gender</td>\n",
       "      <td>1</td>\n",
       "      <td>shoe</td>\n",
       "      <td>gender</td>\n",
       "    </tr>\n",
       "    <tr>\n",
       "      <th>1</th>\n",
       "      <td>shoe:age</td>\n",
       "      <td>2</td>\n",
       "      <td>shoe</td>\n",
       "      <td>age</td>\n",
       "    </tr>\n",
       "    <tr>\n",
       "      <th>2</th>\n",
       "      <td>shoe:color</td>\n",
       "      <td>3</td>\n",
       "      <td>shoe</td>\n",
       "      <td>color</td>\n",
       "    </tr>\n",
       "    <tr>\n",
       "      <th>3</th>\n",
       "      <td>shoe:up height</td>\n",
       "      <td>4</td>\n",
       "      <td>shoe</td>\n",
       "      <td>up height</td>\n",
       "    </tr>\n",
       "    <tr>\n",
       "      <th>4</th>\n",
       "      <td>dress:decoration</td>\n",
       "      <td>5</td>\n",
       "      <td>dress</td>\n",
       "      <td>decoration</td>\n",
       "    </tr>\n",
       "  </tbody>\n",
       "</table>\n",
       "</div>"
      ],
      "text/plain": [
       "           taskName  taskId category label_to_predict\n",
       "0       shoe:gender       1     shoe           gender\n",
       "1          shoe:age       2     shoe              age\n",
       "2        shoe:color       3     shoe            color\n",
       "3    shoe:up height       4     shoe        up height\n",
       "4  dress:decoration       5    dress       decoration"
      ]
     },
     "execution_count": 8,
     "metadata": {},
     "output_type": "execute_result"
    }
   ],
   "source": [
    "# turning the dict into a df\n",
    "tasks_df = pd.DataFrame.from_dict(tasks['taskInfo'])\n",
    "\n",
    "# casting str to int\n",
    "tasks_df = tasks_df.astype({'taskId': int})\n",
    "\n",
    "# splitting the task name into two columns\n",
    "tasks_df[['category', 'label_to_predict']] = pd.DataFrame((tasks_df.apply(lambda x: f(x.str), axis=1)).tolist(), \n",
    "                                                          index=tasks_df.index)\n",
    "tasks_df.head()"
   ]
  },
  {
   "cell_type": "code",
   "execution_count": 9,
   "id": "396ebe4f",
   "metadata": {
    "pycharm": {
     "name": "#%%\n"
    }
   },
   "outputs": [
    {
     "data": {
      "text/plain": [
       "45"
      ]
     },
     "execution_count": 9,
     "metadata": {},
     "output_type": "execute_result"
    }
   ],
   "source": [
    "len(tasks_df)"
   ]
  },
  {
   "cell_type": "markdown",
   "id": "61c0fbd2",
   "metadata": {
    "pycharm": {
     "name": "#%% md\n"
    }
   },
   "source": [
    "There are 45 different tasks, each of them has a corresponding task ID. The name of each task indicates the category of clothing it concerns (between shoe, dress, outerwear and pants) and the type of label that should be predicted."
   ]
  },
  {
   "cell_type": "code",
   "execution_count": 10,
   "id": "aa686585",
   "metadata": {
    "pycharm": {
     "name": "#%%\n"
    }
   },
   "outputs": [
    {
     "data": {
      "text/html": [
       "<div>\n",
       "<style scoped>\n",
       "    .dataframe tbody tr th:only-of-type {\n",
       "        vertical-align: middle;\n",
       "    }\n",
       "\n",
       "    .dataframe tbody tr th {\n",
       "        vertical-align: top;\n",
       "    }\n",
       "\n",
       "    .dataframe thead th {\n",
       "        text-align: right;\n",
       "    }\n",
       "</style>\n",
       "<table border=\"1\" class=\"dataframe\">\n",
       "  <thead>\n",
       "    <tr style=\"text-align: right;\">\n",
       "      <th></th>\n",
       "      <th>Number of tasks</th>\n",
       "    </tr>\n",
       "    <tr>\n",
       "      <th>category</th>\n",
       "      <th></th>\n",
       "    </tr>\n",
       "  </thead>\n",
       "  <tbody>\n",
       "    <tr>\n",
       "      <th>dress</th>\n",
       "      <td>11</td>\n",
       "    </tr>\n",
       "    <tr>\n",
       "      <th>outerwear</th>\n",
       "      <td>10</td>\n",
       "    </tr>\n",
       "    <tr>\n",
       "      <th>pants</th>\n",
       "      <td>10</td>\n",
       "    </tr>\n",
       "    <tr>\n",
       "      <th>shoe</th>\n",
       "      <td>14</td>\n",
       "    </tr>\n",
       "  </tbody>\n",
       "</table>\n",
       "</div>"
      ],
      "text/plain": [
       "           Number of tasks\n",
       "category                  \n",
       "dress                   11\n",
       "outerwear               10\n",
       "pants                   10\n",
       "shoe                    14"
      ]
     },
     "execution_count": 10,
     "metadata": {},
     "output_type": "execute_result"
    }
   ],
   "source": [
    "# printing the number of tasks for each clothing category\n",
    "tasks_df.groupby('category').count().rename(columns = {'taskName': 'Number of tasks'})[['Number of tasks']]"
   ]
  },
  {
   "cell_type": "markdown",
   "id": "b9b692d6",
   "metadata": {
    "pycharm": {
     "name": "#%% md\n"
    }
   },
   "source": [
    "## Training set"
   ]
  },
  {
   "cell_type": "code",
   "execution_count": 15,
   "id": "bb38acfa",
   "metadata": {
    "pycharm": {
     "name": "#%%\n"
    }
   },
   "outputs": [
    {
     "data": {
      "text/plain": [
       "dict_keys(['images', 'info', 'annotations', 'license'])"
      ]
     },
     "execution_count": 15,
     "metadata": {},
     "output_type": "execute_result"
    }
   ],
   "source": [
    "# loading the file\n",
    "train = json.load(open(\"imaterialist-challenge-FGVC2017/fgvc4_iMat.train.data.json\"))\n",
    "train.keys()"
   ]
  },
  {
   "cell_type": "markdown",
   "id": "de98f629",
   "metadata": {
    "pycharm": {
     "name": "#%% md\n"
    }
   },
   "source": [
    "We are only interested in `images` and `annotations`."
   ]
  },
  {
   "cell_type": "markdown",
   "id": "caf5ee59",
   "metadata": {
    "pycharm": {
     "name": "#%% md\n"
    }
   },
   "source": [
    "`train['images']` is a list of dictionaries, strucutred as follows: `{'url':[list of urls], 'imageId': n}`"
   ]
  },
  {
   "cell_type": "code",
   "execution_count": 16,
   "id": "fdb1beb7",
   "metadata": {
    "pycharm": {
     "name": "#%%\n"
    }
   },
   "outputs": [
    {
     "data": {
      "text/plain": [
       "{'url': ['http://im28.gulfup.com/2012-04-14/1334424802942.jpg',\n",
       "  'http://productshots0.modcloth.com/productshots/0062/9433/9c957ccc31e39e90c774dfd8351df5e7.jpg?1298662748',\n",
       "  'http://productshots2.modcloth.com/productshots/0062/9433/9c957ccc31e39e90c774dfd8351df5e7.jpg?1298662748',\n",
       "  'http://productshots3.modcloth.com/productshots/0062/9433/9c957ccc31e39e90c774dfd8351df5e7.jpg',\n",
       "  'http://productshots3.modcloth.net/productshots/0062/9433/9c957ccc31e39e90c774dfd8351df5e7.jpg',\n",
       "  'http://productshots3.modcloth.net/productshots/0062/9433/9c957ccc31e39e90c774dfd8351df5e7.jpg?1298662748',\n",
       "  'http://www.canaryrook.com/uploads/products/poema-moments-to-remember-dress_mc509151449.jpg%3F1298662748',\n",
       "  'https://s-media-cache-ak0.pinimg.com/originals/69/ac/48/69ac48e09b6b42ceceec674504306f63.jpg'],\n",
       " 'imageId': '1'}"
      ]
     },
     "execution_count": 16,
     "metadata": {},
     "output_type": "execute_result"
    }
   ],
   "source": [
    "# example of dict. Each dict corresponds to one image and for each image there's only one dict\n",
    "train['images'][0]"
   ]
  },
  {
   "cell_type": "code",
   "execution_count": 17,
   "id": "6fc04651",
   "metadata": {
    "pycharm": {
     "name": "#%%\n"
    }
   },
   "outputs": [
    {
     "data": {
      "text/plain": [
       "42029"
      ]
     },
     "execution_count": 17,
     "metadata": {},
     "output_type": "execute_result"
    }
   ],
   "source": [
    "len(train['images'])"
   ]
  },
  {
   "cell_type": "markdown",
   "id": "e499238e",
   "metadata": {
    "pycharm": {
     "name": "#%% md\n"
    }
   },
   "source": [
    "`train['annotations']` is a list of dictionaries, structured as follows: `{'labelId': n, 'imageId': 'n', 'taskId': n}`"
   ]
  },
  {
   "cell_type": "code",
   "execution_count": 18,
   "id": "cb77c2b5",
   "metadata": {
    "pycharm": {
     "name": "#%%\n"
    }
   },
   "outputs": [
    {
     "data": {
      "text/plain": [
       "({'labelId': '6', 'imageId': '1', 'taskId': '5'},\n",
       " {'labelId': '7', 'imageId': '2', 'taskId': '6'})"
      ]
     },
     "execution_count": 18,
     "metadata": {},
     "output_type": "execute_result"
    }
   ],
   "source": [
    "# two examples of annotations dict\n",
    "train['annotations'][0], train['annotations'][1]"
   ]
  },
  {
   "cell_type": "code",
   "execution_count": 19,
   "id": "755ddf49",
   "metadata": {
    "pycharm": {
     "name": "#%%\n"
    }
   },
   "outputs": [
    {
     "data": {
      "text/plain": [
       "62088"
      ]
     },
     "execution_count": 19,
     "metadata": {},
     "output_type": "execute_result"
    }
   ],
   "source": [
    "len(train['annotations'])"
   ]
  },
  {
   "cell_type": "markdown",
   "id": "8e27070e",
   "metadata": {
    "pycharm": {
     "name": "#%% md\n"
    }
   },
   "source": [
    "The list of annotation dictionaries is longer than the one of images, implying that some image can have multiple annotations (which should refer to different tasks)."
   ]
  },
  {
   "cell_type": "code",
   "execution_count": 20,
   "id": "7a1722bd",
   "metadata": {
    "pycharm": {
     "name": "#%%\n"
    }
   },
   "outputs": [
    {
     "name": "stdout",
     "output_type": "stream",
     "text": [
      "{'labelId': '1', 'imageId': '52', 'taskId': '1'}\n",
      "{'labelId': '37', 'imageId': '52', 'taskId': '3'}\n"
     ]
    }
   ],
   "source": [
    "# example of image with two annotations\n",
    "for el in train['annotations']:\n",
    "    if el['imageId'] == '52':\n",
    "        print(el)"
   ]
  },
  {
   "cell_type": "code",
   "execution_count": 21,
   "id": "4cca754c",
   "metadata": {
    "pycharm": {
     "name": "#%%\n"
    }
   },
   "outputs": [
    {
     "data": {
      "text/html": [
       "<div>\n",
       "<style scoped>\n",
       "    .dataframe tbody tr th:only-of-type {\n",
       "        vertical-align: middle;\n",
       "    }\n",
       "\n",
       "    .dataframe tbody tr th {\n",
       "        vertical-align: top;\n",
       "    }\n",
       "\n",
       "    .dataframe thead th {\n",
       "        text-align: right;\n",
       "    }\n",
       "</style>\n",
       "<table border=\"1\" class=\"dataframe\">\n",
       "  <thead>\n",
       "    <tr style=\"text-align: right;\">\n",
       "      <th></th>\n",
       "      <th>labelName</th>\n",
       "      <th>labelId</th>\n",
       "    </tr>\n",
       "  </thead>\n",
       "  <tbody>\n",
       "    <tr>\n",
       "      <th>0</th>\n",
       "      <td>men</td>\n",
       "      <td>1</td>\n",
       "    </tr>\n",
       "    <tr>\n",
       "      <th>36</th>\n",
       "      <td>white</td>\n",
       "      <td>37</td>\n",
       "    </tr>\n",
       "  </tbody>\n",
       "</table>\n",
       "</div>"
      ],
      "text/plain": [
       "   labelName  labelId\n",
       "0        men        1\n",
       "36     white       37"
      ]
     },
     "execution_count": 21,
     "metadata": {},
     "output_type": "execute_result"
    }
   ],
   "source": [
    "# labels id of annotation 1 and 2 and to what they correspond\n",
    "labels_df[labels_df.labelId.isin([1,37])]"
   ]
  },
  {
   "cell_type": "code",
   "execution_count": 22,
   "id": "9fdbef98",
   "metadata": {
    "pycharm": {
     "name": "#%%\n"
    }
   },
   "outputs": [
    {
     "data": {
      "text/html": [
       "<div>\n",
       "<style scoped>\n",
       "    .dataframe tbody tr th:only-of-type {\n",
       "        vertical-align: middle;\n",
       "    }\n",
       "\n",
       "    .dataframe tbody tr th {\n",
       "        vertical-align: top;\n",
       "    }\n",
       "\n",
       "    .dataframe thead th {\n",
       "        text-align: right;\n",
       "    }\n",
       "</style>\n",
       "<table border=\"1\" class=\"dataframe\">\n",
       "  <thead>\n",
       "    <tr style=\"text-align: right;\">\n",
       "      <th></th>\n",
       "      <th>taskName</th>\n",
       "      <th>taskId</th>\n",
       "      <th>category</th>\n",
       "      <th>label_to_predict</th>\n",
       "    </tr>\n",
       "  </thead>\n",
       "  <tbody>\n",
       "    <tr>\n",
       "      <th>0</th>\n",
       "      <td>shoe:gender</td>\n",
       "      <td>1</td>\n",
       "      <td>shoe</td>\n",
       "      <td>gender</td>\n",
       "    </tr>\n",
       "    <tr>\n",
       "      <th>2</th>\n",
       "      <td>shoe:color</td>\n",
       "      <td>3</td>\n",
       "      <td>shoe</td>\n",
       "      <td>color</td>\n",
       "    </tr>\n",
       "  </tbody>\n",
       "</table>\n",
       "</div>"
      ],
      "text/plain": [
       "      taskName  taskId category label_to_predict\n",
       "0  shoe:gender       1     shoe           gender\n",
       "2   shoe:color       3     shoe            color"
      ]
     },
     "execution_count": 22,
     "metadata": {},
     "output_type": "execute_result"
    }
   ],
   "source": [
    "# tasks id of annotation 1 and 2 and to what they correspond\n",
    "tasks_df[tasks_df.taskId.isin([1,3])]"
   ]
  },
  {
   "cell_type": "code",
   "execution_count": 25,
   "id": "9ea73e28",
   "metadata": {
    "pycharm": {
     "name": "#%%\n"
    }
   },
   "outputs": [
    {
     "data": {
      "text/html": [
       "<div>\n",
       "<style scoped>\n",
       "    .dataframe tbody tr th:only-of-type {\n",
       "        vertical-align: middle;\n",
       "    }\n",
       "\n",
       "    .dataframe tbody tr th {\n",
       "        vertical-align: top;\n",
       "    }\n",
       "\n",
       "    .dataframe thead th {\n",
       "        text-align: right;\n",
       "    }\n",
       "</style>\n",
       "<table border=\"1\" class=\"dataframe\">\n",
       "  <thead>\n",
       "    <tr style=\"text-align: right;\">\n",
       "      <th></th>\n",
       "      <th>labelId</th>\n",
       "      <th>imageId</th>\n",
       "      <th>taskId</th>\n",
       "    </tr>\n",
       "  </thead>\n",
       "  <tbody>\n",
       "    <tr>\n",
       "      <th>0</th>\n",
       "      <td>6</td>\n",
       "      <td>1</td>\n",
       "      <td>5</td>\n",
       "    </tr>\n",
       "    <tr>\n",
       "      <th>1</th>\n",
       "      <td>7</td>\n",
       "      <td>2</td>\n",
       "      <td>6</td>\n",
       "    </tr>\n",
       "    <tr>\n",
       "      <th>2</th>\n",
       "      <td>8</td>\n",
       "      <td>3</td>\n",
       "      <td>7</td>\n",
       "    </tr>\n",
       "    <tr>\n",
       "      <th>3</th>\n",
       "      <td>10</td>\n",
       "      <td>4</td>\n",
       "      <td>9</td>\n",
       "    </tr>\n",
       "    <tr>\n",
       "      <th>4</th>\n",
       "      <td>14</td>\n",
       "      <td>5</td>\n",
       "      <td>12</td>\n",
       "    </tr>\n",
       "  </tbody>\n",
       "</table>\n",
       "</div>"
      ],
      "text/plain": [
       "   labelId  imageId  taskId\n",
       "0        6        1       5\n",
       "1        7        2       6\n",
       "2        8        3       7\n",
       "3       10        4       9\n",
       "4       14        5      12"
      ]
     },
     "execution_count": 25,
     "metadata": {},
     "output_type": "execute_result"
    }
   ],
   "source": [
    "annotations_df = pd.DataFrame.from_records(train['annotations']).astype(int)\n",
    "annotations_df.head()"
   ]
  },
  {
   "cell_type": "code",
   "execution_count": 37,
   "id": "d348f8ee",
   "metadata": {
    "pycharm": {
     "name": "#%%\n"
    }
   },
   "outputs": [
    {
     "data": {
      "text/html": [
       "<div>\n",
       "<style scoped>\n",
       "    .dataframe tbody tr th:only-of-type {\n",
       "        vertical-align: middle;\n",
       "    }\n",
       "\n",
       "    .dataframe tbody tr th {\n",
       "        vertical-align: top;\n",
       "    }\n",
       "\n",
       "    .dataframe thead th {\n",
       "        text-align: right;\n",
       "    }\n",
       "</style>\n",
       "<table border=\"1\" class=\"dataframe\">\n",
       "  <thead>\n",
       "    <tr style=\"text-align: right;\">\n",
       "      <th></th>\n",
       "      <th>labelId</th>\n",
       "      <th>imageId</th>\n",
       "    </tr>\n",
       "    <tr>\n",
       "      <th>taskId</th>\n",
       "      <th></th>\n",
       "      <th></th>\n",
       "    </tr>\n",
       "  </thead>\n",
       "  <tbody>\n",
       "    <tr>\n",
       "      <th>43</th>\n",
       "      <td>65</td>\n",
       "      <td>65</td>\n",
       "    </tr>\n",
       "    <tr>\n",
       "      <th>45</th>\n",
       "      <td>71</td>\n",
       "      <td>71</td>\n",
       "    </tr>\n",
       "    <tr>\n",
       "      <th>42</th>\n",
       "      <td>92</td>\n",
       "      <td>92</td>\n",
       "    </tr>\n",
       "    <tr>\n",
       "      <th>29</th>\n",
       "      <td>239</td>\n",
       "      <td>239</td>\n",
       "    </tr>\n",
       "    <tr>\n",
       "      <th>27</th>\n",
       "      <td>252</td>\n",
       "      <td>252</td>\n",
       "    </tr>\n",
       "  </tbody>\n",
       "</table>\n",
       "</div>"
      ],
      "text/plain": [
       "        labelId  imageId\n",
       "taskId                  \n",
       "43           65       65\n",
       "45           71       71\n",
       "42           92       92\n",
       "29          239      239\n",
       "27          252      252"
      ]
     },
     "execution_count": 37,
     "metadata": {},
     "output_type": "execute_result"
    }
   ],
   "source": [
    "# with this we can see for each task how many images there are\n",
    "a = annotations_df.groupby('taskId').count().sort_values('labelId')\n",
    "a.head()"
   ]
  },
  {
   "cell_type": "code",
   "execution_count": 26,
   "id": "400bdcc8",
   "metadata": {
    "pycharm": {
     "name": "#%%\n"
    }
   },
   "outputs": [],
   "source": [
    "# pd.merge(a, tasks_df, right_on = 'taskId', left_on = 'taskId').sort_values('labelId', ascending = False)"
   ]
  },
  {
   "cell_type": "code",
   "execution_count": 24,
   "id": "76117bb8",
   "metadata": {
    "pycharm": {
     "name": "#%%\n"
    }
   },
   "outputs": [
    {
     "data": {
      "text/plain": [
       "array([ 94, 113, 183,  24, 214,   8,  92, 101, 252,  85,  83, 260,  88,\n",
       "        16,  49, 312, 209, 176, 204, 112, 210, 369, 187, 334,  95, 306,\n",
       "       289, 154, 321])"
      ]
     },
     "execution_count": 24,
     "metadata": {},
     "output_type": "execute_result"
    }
   ],
   "source": [
    "# with this we can see what labels correspond to task t\n",
    "t = 26\n",
    "annotations_df[annotations_df.taskId == t].labelId.unique()"
   ]
  },
  {
   "cell_type": "code",
   "execution_count": 69,
   "id": "ff8e22c2",
   "metadata": {
    "pycharm": {
     "name": "#%%\n"
    }
   },
   "outputs": [
    {
     "data": {
      "text/html": [
       "<div>\n",
       "<style scoped>\n",
       "    .dataframe tbody tr th:only-of-type {\n",
       "        vertical-align: middle;\n",
       "    }\n",
       "\n",
       "    .dataframe tbody tr th {\n",
       "        vertical-align: top;\n",
       "    }\n",
       "\n",
       "    .dataframe thead th {\n",
       "        text-align: right;\n",
       "    }\n",
       "</style>\n",
       "<table border=\"1\" class=\"dataframe\">\n",
       "  <thead>\n",
       "    <tr style=\"text-align: right;\">\n",
       "      <th></th>\n",
       "      <th>taskName</th>\n",
       "      <th>taskId</th>\n",
       "      <th>category</th>\n",
       "      <th>label_to_predict</th>\n",
       "    </tr>\n",
       "  </thead>\n",
       "  <tbody>\n",
       "    <tr>\n",
       "      <th>23</th>\n",
       "      <td>pants:decoration</td>\n",
       "      <td>24</td>\n",
       "      <td>pants</td>\n",
       "      <td>decoration</td>\n",
       "    </tr>\n",
       "  </tbody>\n",
       "</table>\n",
       "</div>"
      ],
      "text/plain": [
       "            taskName  taskId category label_to_predict\n",
       "23  pants:decoration      24    pants       decoration"
      ]
     },
     "execution_count": 69,
     "metadata": {},
     "output_type": "execute_result"
    }
   ],
   "source": [
    "# description of the task\n",
    "tasks_df[tasks_df.taskId == t]"
   ]
  },
  {
   "cell_type": "code",
   "execution_count": 66,
   "id": "97672821",
   "metadata": {
    "pycharm": {
     "name": "#%%\n"
    }
   },
   "outputs": [
    {
     "data": {
      "text/html": [
       "<div>\n",
       "<style scoped>\n",
       "    .dataframe tbody tr th:only-of-type {\n",
       "        vertical-align: middle;\n",
       "    }\n",
       "\n",
       "    .dataframe tbody tr th {\n",
       "        vertical-align: top;\n",
       "    }\n",
       "\n",
       "    .dataframe thead th {\n",
       "        text-align: right;\n",
       "    }\n",
       "</style>\n",
       "<table border=\"1\" class=\"dataframe\">\n",
       "  <thead>\n",
       "    <tr style=\"text-align: right;\">\n",
       "      <th></th>\n",
       "      <th>labelName</th>\n",
       "      <th>labelId</th>\n",
       "    </tr>\n",
       "  </thead>\n",
       "  <tbody>\n",
       "    <tr>\n",
       "      <th>187</th>\n",
       "      <td>bleached</td>\n",
       "      <td>188</td>\n",
       "    </tr>\n",
       "    <tr>\n",
       "      <th>128</th>\n",
       "      <td>camouflage</td>\n",
       "      <td>129</td>\n",
       "    </tr>\n",
       "    <tr>\n",
       "      <th>215</th>\n",
       "      <td>drawstring</td>\n",
       "      <td>216</td>\n",
       "    </tr>\n",
       "    <tr>\n",
       "      <th>374</th>\n",
       "      <td>elastic waist</td>\n",
       "      <td>375</td>\n",
       "    </tr>\n",
       "    <tr>\n",
       "      <th>58</th>\n",
       "      <td>embroidery</td>\n",
       "      <td>59</td>\n",
       "    </tr>\n",
       "  </tbody>\n",
       "</table>\n",
       "</div>"
      ],
      "text/plain": [
       "         labelName  labelId\n",
       "187       bleached      188\n",
       "128     camouflage      129\n",
       "215     drawstring      216\n",
       "374  elastic waist      375\n",
       "58      embroidery       59"
      ]
     },
     "execution_count": 66,
     "metadata": {},
     "output_type": "execute_result"
    }
   ],
   "source": [
    "# all labels for the task \n",
    "t = 24\n",
    "label_task_t = annotations_df[annotations_df.taskId == t].labelId.unique()\n",
    "labels_df[labels_df.labelId.isin(label_task_t)].sort_values('labelName').head() # (remove head to see all)"
   ]
  },
  {
   "cell_type": "markdown",
   "id": "f347cbd0",
   "metadata": {
    "pycharm": {
     "name": "#%% md\n"
    }
   },
   "source": [
    "## Retrieving garment category for each image"
   ]
  },
  {
   "cell_type": "code",
   "execution_count": 45,
   "id": "25ce683b",
   "metadata": {
    "pycharm": {
     "name": "#%%\n"
    }
   },
   "outputs": [
    {
     "data": {
      "text/html": [
       "<div>\n",
       "<style scoped>\n",
       "    .dataframe tbody tr th:only-of-type {\n",
       "        vertical-align: middle;\n",
       "    }\n",
       "\n",
       "    .dataframe tbody tr th {\n",
       "        vertical-align: top;\n",
       "    }\n",
       "\n",
       "    .dataframe thead th {\n",
       "        text-align: right;\n",
       "    }\n",
       "</style>\n",
       "<table border=\"1\" class=\"dataframe\">\n",
       "  <thead>\n",
       "    <tr style=\"text-align: right;\">\n",
       "      <th></th>\n",
       "      <th>taskId</th>\n",
       "      <th>imageId</th>\n",
       "      <th>category</th>\n",
       "    </tr>\n",
       "  </thead>\n",
       "  <tbody>\n",
       "    <tr>\n",
       "      <th>1247</th>\n",
       "      <td>5</td>\n",
       "      <td>21116</td>\n",
       "      <td>dress</td>\n",
       "    </tr>\n",
       "    <tr>\n",
       "      <th>1705</th>\n",
       "      <td>5</td>\n",
       "      <td>28561</td>\n",
       "      <td>dress</td>\n",
       "    </tr>\n",
       "    <tr>\n",
       "      <th>1707</th>\n",
       "      <td>5</td>\n",
       "      <td>28589</td>\n",
       "      <td>dress</td>\n",
       "    </tr>\n",
       "    <tr>\n",
       "      <th>225</th>\n",
       "      <td>5</td>\n",
       "      <td>5292</td>\n",
       "      <td>dress</td>\n",
       "    </tr>\n",
       "    <tr>\n",
       "      <th>1301</th>\n",
       "      <td>5</td>\n",
       "      <td>21927</td>\n",
       "      <td>dress</td>\n",
       "    </tr>\n",
       "  </tbody>\n",
       "</table>\n",
       "</div>"
      ],
      "text/plain": [
       "      taskId  imageId category\n",
       "1247       5    21116    dress\n",
       "1705       5    28561    dress\n",
       "1707       5    28589    dress\n",
       "225        5     5292    dress\n",
       "1301       5    21927    dress"
      ]
     },
     "execution_count": 45,
     "metadata": {},
     "output_type": "execute_result"
    }
   ],
   "source": [
    "category_df = pd.merge(annotations_df, tasks_df, right_on = 'taskId', left_on = 'taskId').sort_values('labelId',\n",
    "                                                                                         ascending = False)\n",
    "category_df = category_df[['taskId', 'imageId', 'category']]\n",
    "category_df.head()"
   ]
  },
  {
   "cell_type": "code",
   "execution_count": 48,
   "id": "f4806a54",
   "metadata": {
    "pycharm": {
     "name": "#%%\n"
    }
   },
   "outputs": [],
   "source": [
    "shoe_imgs = set(category_df[category_df.category == 'shoe'].imageId.unique())\n",
    "dress_imgs = set(category_df[category_df.category == 'dress'].imageId.unique())\n",
    "pants_imgs = set(category_df[category_df.category == 'pants'].imageId.unique())\n",
    "out_imgs = set(category_df[category_df.category == 'outerwear'].imageId.unique())"
   ]
  },
  {
   "cell_type": "code",
   "execution_count": 47,
   "id": "a2769be5",
   "metadata": {
    "pycharm": {
     "name": "#%%\n"
    }
   },
   "outputs": [
    {
     "data": {
      "text/plain": [
       "42058"
      ]
     },
     "execution_count": 47,
     "metadata": {},
     "output_type": "execute_result"
    }
   ],
   "source": [
    "len(shoe_imgs)+len(dress_imgs)+len(pants_imgs)+len(out_imgs)"
   ]
  },
  {
   "cell_type": "markdown",
   "id": "1f300da1",
   "metadata": {
    "pycharm": {
     "name": "#%% md\n"
    }
   },
   "source": [
    "Le immagini sono 42029, quindi alcuni label id devono essere in più di un set."
   ]
  },
  {
   "cell_type": "code",
   "execution_count": 49,
   "id": "375c2c48",
   "metadata": {
    "pycharm": {
     "name": "#%%\n"
    }
   },
   "outputs": [
    {
     "data": {
      "text/plain": [
       "{292, 11378, 13466, 15914}"
      ]
     },
     "execution_count": 49,
     "metadata": {},
     "output_type": "execute_result"
    }
   ],
   "source": [
    "shoe_imgs.intersection(dress_imgs)"
   ]
  },
  {
   "cell_type": "code",
   "execution_count": 50,
   "id": "2b7537dd",
   "metadata": {
    "pycharm": {
     "name": "#%%\n"
    }
   },
   "outputs": [
    {
     "data": {
      "text/plain": [
       "{37654}"
      ]
     },
     "execution_count": 50,
     "metadata": {},
     "output_type": "execute_result"
    }
   ],
   "source": [
    "shoe_imgs.intersection(pants_imgs)"
   ]
  },
  {
   "cell_type": "code",
   "execution_count": 51,
   "id": "ef7190fa",
   "metadata": {
    "pycharm": {
     "name": "#%%\n"
    }
   },
   "outputs": [
    {
     "data": {
      "text/plain": [
       "{4090, 6631, 32978}"
      ]
     },
     "execution_count": 51,
     "metadata": {},
     "output_type": "execute_result"
    }
   ],
   "source": [
    "shoe_imgs.intersection(out_imgs)"
   ]
  },
  {
   "cell_type": "code",
   "execution_count": 52,
   "id": "19ff3914",
   "metadata": {
    "pycharm": {
     "name": "#%%\n"
    }
   },
   "outputs": [
    {
     "data": {
      "text/plain": [
       "set()"
      ]
     },
     "execution_count": 52,
     "metadata": {},
     "output_type": "execute_result"
    }
   ],
   "source": [
    "dress_imgs.intersection(pants_imgs)"
   ]
  },
  {
   "cell_type": "code",
   "execution_count": 53,
   "id": "7a0ca69a",
   "metadata": {
    "pycharm": {
     "name": "#%%\n"
    }
   },
   "outputs": [
    {
     "data": {
      "text/plain": [
       "{8692, 12001, 15601}"
      ]
     },
     "execution_count": 53,
     "metadata": {},
     "output_type": "execute_result"
    }
   ],
   "source": [
    "dress_imgs.intersection(out_imgs)"
   ]
  },
  {
   "cell_type": "code",
   "execution_count": 54,
   "id": "dd6d8d3b",
   "metadata": {
    "pycharm": {
     "name": "#%%\n"
    }
   },
   "outputs": [
    {
     "data": {
      "text/plain": [
       "{2097,\n",
       " 3804,\n",
       " 4884,\n",
       " 5822,\n",
       " 11124,\n",
       " 12443,\n",
       " 12728,\n",
       " 13479,\n",
       " 13515,\n",
       " 22732,\n",
       " 24854,\n",
       " 26795,\n",
       " 27113,\n",
       " 28016,\n",
       " 28282,\n",
       " 30426,\n",
       " 31917,\n",
       " 39406}"
      ]
     },
     "execution_count": 54,
     "metadata": {},
     "output_type": "execute_result"
    }
   ],
   "source": [
    "pants_imgs.intersection(out_imgs)"
   ]
  },
  {
   "cell_type": "markdown",
   "id": "75250db8",
   "metadata": {
    "pycharm": {
     "name": "#%% md\n"
    }
   },
   "source": [
    "Alcune immagini appartengono a più categorie."
   ]
  },
  {
   "cell_type": "code",
   "execution_count": 70,
   "id": "10859feb",
   "metadata": {
    "pycharm": {
     "name": "#%%\n"
    }
   },
   "outputs": [],
   "source": [
    "import matplotlib.pyplot as plt"
   ]
  },
  {
   "cell_type": "code",
   "execution_count": 94,
   "id": "f245d24d",
   "metadata": {
    "pycharm": {
     "name": "#%%\n"
    }
   },
   "outputs": [
    {
     "data": {
      "image/png": "[encoded data removed]",
      "text/plain": [
       "<Figure size 432x288 with 1 Axes>"
      ]
     },
     "metadata": {
      "needs_background": "light"
     },
     "output_type": "display_data"
    }
   ],
   "source": [
    "values = [len(x) for x in (shoe_imgs, dress_imgs, out_imgs, pants_imgs)]\n",
    "plt.bar(x = [0,1,2,3], height = values)\n",
    "labels = ['shoes','dresses','outerwear','pants']\n",
    "for i, v in enumerate(values):\n",
    "    plt.text(i-0.2, v-1000, str(v), color = 'white')\n",
    "plt.xticks(ticks = [0,1,2,3], labels = ['shoes','dresses','outerwear','pants'])\n",
    "plt.show()"
   ]
  },
  {
   "cell_type": "code",
   "execution_count": null,
   "id": "f51aa716",
   "metadata": {
    "pycharm": {
     "name": "#%%\n"
    }
   },
   "outputs": [],
   "source": []
  }
 ],
 "metadata": {
  "kernelspec": {
   "name": "python385jvsc74a57bd0f1542c306cb0ca549d86eea72bf10f27023ff55b8cfdccad77c56cbf504d0e3a",
   "language": "python",
   "display_name": "Python 3.8.5 ('base')"
  },
  "language_info": {
   "codemirror_mode": {
    "name": "ipython",
    "version": 3
   },
   "file_extension": ".py",
   "mimetype": "text/x-python",
   "name": "python",
   "nbconvert_exporter": "python",
   "pygments_lexer": "ipython3",
   "version": "3.9.7"
  }
 },
 "nbformat": 4,
 "nbformat_minor": 5
}