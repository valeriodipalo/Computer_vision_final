{
 "cells": [
  {
   "cell_type": "code",
   "execution_count": null,
   "outputs": [],
   "source": [
    "# 1. DIVIDE THE DATAFRAME BY LABEL df_label\n",
    "# 2. HOW TO ACCESS THE NAME OF ALL ELEMENTS IN A FOLDER\n",
    "for el_name in df_label\n",
    "    #3. USE MOVE CODE\n"
   ],
   "metadata": {
    "collapsed": false,
    "pycharm": {
     "name": "#%%\n"
    }
   }
  },
  {
   "cell_type": "code",
   "execution_count": null,
   "outputs": [],
   "source": [
    "#2\n",
    "import os\n",
    "from os import listdir\n",
    "import shutil\n",
    "\n",
    "# get the path/directory\n",
    "folder_dir = \"C:/Users/RIJUSHREE/Desktop/Gfg images\" # source directory\n",
    "for images in os.listdir(folder_dir):\n",
    "\n",
    "    # check if the image ends with png\n",
    "    if (images.endswith(\".png\")):\n",
    "        print(images)"
   ],
   "metadata": {
    "collapsed": false,
    "pycharm": {
     "name": "#%%\n"
    }
   }
  },
  {
   "cell_type": "code",
   "execution_count": null,
   "outputs": [],
   "source": [
    "#3\n",
    "source = '/home/tuhingfg/Documents/source'\n",
    "destination = '/home/tuhingfg/Documents/destination'\n",
    "\n",
    "# gather all files\n",
    "allfiles = os.listdir(source)\n",
    "\n",
    "# iterate on all files to move them to destination folder\n",
    "for f in allfiles:\n",
    "    src_path = os.path.join(source, f)\n",
    "    dst_path = os.path.join(destination, f)\n",
    "    shutil.move(src_path, dst_path)\n"
   ],
   "metadata": {
    "collapsed": false,
    "pycharm": {
     "name": "#%%\n"
    }
   }
  }
 ],
 "metadata": {
  "kernelspec": {
   "display_name": "Python 3",
   "language": "python",
   "name": "python3"
  },
  "language_info": {
   "codemirror_mode": {
    "name": "ipython",
    "version": 2
   },
   "file_extension": ".py",
   "mimetype": "text/x-python",
   "name": "python",
   "nbconvert_exporter": "python",
   "pygments_lexer": "ipython2",
   "version": "2.7.6"
  }
 },
 "nbformat": 4,
 "nbformat_minor": 0
}