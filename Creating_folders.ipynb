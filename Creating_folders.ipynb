{
  "nbformat": 4,
  "nbformat_minor": 0,
  "metadata": {
    "colab": {
      "provenance": [],
      "collapsed_sections": [
        "lQXgQiqEbGja"
      ]
    },
    "kernelspec": {
      "name": "python3",
      "display_name": "Python 3"
    },
    "language_info": {
      "name": "python"
    },
    "accelerator": "GPU",
    "gpuClass": "standard"
  },
  "cells": [
    {
      "cell_type": "code",
      "source": [
        "from google.colab import drive\n",
        "drive.mount('/content/drive')"
      ],
      "metadata": {
        "colab": {
          "base_uri": "https://localhost:8080/"
        },
        "id": "2nEjOLZYUqcU",
        "outputId": "d366a8bc-fe19-4680-8628-dbb3062f9fff"
      },
      "execution_count": 1,
      "outputs": [
        {
          "output_type": "stream",
          "name": "stdout",
          "text": [
            "Mounted at /content/drive\n"
          ]
        }
      ]
    },
    {
      "cell_type": "markdown",
      "source": [
        "# Downloading images"
      ],
      "metadata": {
        "id": "74KoiHLdfjee"
      }
    },
    {
      "cell_type": "code",
      "source": [
        "input_url = 'https://bocconi-my.sharepoint.com/:u:/g/personal/debora_nozza_unibocconi_it/EZD4agUTZyxMgv0u99Smxr8Bh-zrmPDGgnsm9z4J3gDc9w?e=jSrKOW'\n",
        "output_dir = \"train_images.tar.gz\"\n",
        "\n",
        "split_url = input_url.rfind('?')\n",
        "converted_url = input_url[:split_url] + '?download=1'\n",
        "\n",
        "!wget -O \"$output_dir\" \"$converted_url\""
      ],
      "metadata": {
        "id": "rTYlMVuhfk7o",
        "outputId": "430554e9-1106-4bbb-cf87-f2bca6f1de58",
        "colab": {
          "base_uri": "https://localhost:8080/"
        }
      },
      "execution_count": 2,
      "outputs": [
        {
          "output_type": "stream",
          "name": "stdout",
          "text": [
            "--2022-11-17 09:22:05--  https://bocconi-my.sharepoint.com/:u:/g/personal/debora_nozza_unibocconi_it/EZD4agUTZyxMgv0u99Smxr8Bh-zrmPDGgnsm9z4J3gDc9w?download=1\n",
            "Resolving bocconi-my.sharepoint.com (bocconi-my.sharepoint.com)... 13.107.136.9, 13.107.138.9\n",
            "Connecting to bocconi-my.sharepoint.com (bocconi-my.sharepoint.com)|13.107.136.9|:443... connected.\n",
            "HTTP request sent, awaiting response... 302 Found\n",
            "Location: /personal/debora_nozza_unibocconi_it/Documents/5.%20Corsi/Computer%20Vision%20-%202022-2023/DEEP%20LEARNING%20FOR%20COMPUTER%20VISION%20-%20PROJECT%20DATA/train_images.tar.gz?ga=1 [following]\n",
            "--2022-11-17 09:22:05--  https://bocconi-my.sharepoint.com/personal/debora_nozza_unibocconi_it/Documents/5.%20Corsi/Computer%20Vision%20-%202022-2023/DEEP%20LEARNING%20FOR%20COMPUTER%20VISION%20-%20PROJECT%20DATA/train_images.tar.gz?ga=1\n",
            "Reusing existing connection to bocconi-my.sharepoint.com:443.\n",
            "HTTP request sent, awaiting response... 200 OK\n",
            "Length: 2721813810 (2.5G) [application/x-gzip]\n",
            "Saving to: ‘train_images.tar.gz’\n",
            "\n",
            "train_images.tar.gz 100%[===================>]   2.53G  75.3MB/s    in 32s     \n",
            "\n",
            "2022-11-17 09:22:38 (80.2 MB/s) - ‘train_images.tar.gz’ saved [2721813810/2721813810]\n",
            "\n"
          ]
        }
      ]
    },
    {
      "cell_type": "code",
      "source": [
        "input_url = 'https://bocconi-my.sharepoint.com/:u:/g/personal/debora_nozza_unibocconi_it/EXuJWfGHWN9DoGgCVZ7kMjcBH4M9WUylw1cSwf8b0n8_hA?e=LU8oHx'\n",
        "output_dir = \"validation_images.tar.gz\"\n",
        "\n",
        "split_url = input_url.rfind('?')\n",
        "converted_url = input_url[:split_url] + '?download=1'\n",
        "\n",
        "!wget -O \"$output_dir\" \"$converted_url\""
      ],
      "metadata": {
        "id": "nUDQXERvgCj0",
        "colab": {
          "base_uri": "https://localhost:8080/"
        },
        "outputId": "cb08d204-4a87-45d4-b20f-bf40f813b084"
      },
      "execution_count": 3,
      "outputs": [
        {
          "output_type": "stream",
          "name": "stdout",
          "text": [
            "--2022-11-17 09:22:39--  https://bocconi-my.sharepoint.com/:u:/g/personal/debora_nozza_unibocconi_it/EXuJWfGHWN9DoGgCVZ7kMjcBH4M9WUylw1cSwf8b0n8_hA?download=1\n",
            "Resolving bocconi-my.sharepoint.com (bocconi-my.sharepoint.com)... 13.107.136.9, 13.107.138.9\n",
            "Connecting to bocconi-my.sharepoint.com (bocconi-my.sharepoint.com)|13.107.136.9|:443... connected.\n",
            "HTTP request sent, awaiting response... 302 Found\n",
            "Location: /personal/debora_nozza_unibocconi_it/Documents/5.%20Corsi/Computer%20Vision%20-%202022-2023/DEEP%20LEARNING%20FOR%20COMPUTER%20VISION%20-%20PROJECT%20DATA/validation_images.tar.gz?ga=1 [following]\n",
            "--2022-11-17 09:22:39--  https://bocconi-my.sharepoint.com/personal/debora_nozza_unibocconi_it/Documents/5.%20Corsi/Computer%20Vision%20-%202022-2023/DEEP%20LEARNING%20FOR%20COMPUTER%20VISION%20-%20PROJECT%20DATA/validation_images.tar.gz?ga=1\n",
            "Reusing existing connection to bocconi-my.sharepoint.com:443.\n",
            "HTTP request sent, awaiting response... 200 OK\n",
            "Length: 517500750 (494M) [application/x-gzip]\n",
            "Saving to: ‘validation_images.tar.gz’\n",
            "\n",
            "validation_images.t 100%[===================>] 493.53M  83.9MB/s    in 5.8s    \n",
            "\n",
            "2022-11-17 09:22:45 (84.8 MB/s) - ‘validation_images.tar.gz’ saved [517500750/517500750]\n",
            "\n"
          ]
        }
      ]
    },
    {
      "cell_type": "code",
      "source": [
        "# imports\n",
        "import tarfile\n",
        "import numpy as np\n",
        "from matplotlib import pyplot as plt\n",
        "from matplotlib import image as mpimg\n",
        "import os"
      ],
      "metadata": {
        "id": "0pHEd7gBSkn4"
      },
      "execution_count": 4,
      "outputs": []
    },
    {
      "cell_type": "code",
      "source": [
        "# Extract train images\n",
        "tar = tarfile.open(\"train_images.tar.gz\", \"r:gz\")\n",
        "tar.extractall('')\n",
        "tar.close()"
      ],
      "metadata": {
        "id": "c8vpSwyOSuh5"
      },
      "execution_count": 5,
      "outputs": []
    },
    {
      "cell_type": "code",
      "source": [
        "train_dir = '/content/train_images'\n",
        "train_img = os.listdir(train_dir)\n",
        "\n",
        "print('total training images:', len(train_img))"
      ],
      "metadata": {
        "colab": {
          "base_uri": "https://localhost:8080/"
        },
        "id": "EyOj8n6eUcuZ",
        "outputId": "73d65ec8-25ba-4fca-b57d-810aec3da2a7"
      },
      "execution_count": 6,
      "outputs": [
        {
          "output_type": "stream",
          "name": "stdout",
          "text": [
            "total training images: 27315\n"
          ]
        }
      ]
    },
    {
      "cell_type": "code",
      "source": [
        "# Extract validation images\n",
        "tar = tarfile.open(\"validation_images.tar.gz\", \"r:gz\")\n",
        "tar.extractall('')\n",
        "tar.close()"
      ],
      "metadata": {
        "id": "rwttbIlF5YVs"
      },
      "execution_count": 7,
      "outputs": []
    },
    {
      "cell_type": "code",
      "source": [
        "validation_dir = '/content/train_images'\n",
        "validation_img = os.listdir(validation_dir)\n",
        "\n",
        "print('total validation images:', len(validation_img))"
      ],
      "metadata": {
        "colab": {
          "base_uri": "https://localhost:8080/"
        },
        "id": "q0PgTzNh5gEp",
        "outputId": "d61822c5-144a-4c39-a4f2-c8a045361a0b"
      },
      "execution_count": 8,
      "outputs": [
        {
          "output_type": "stream",
          "name": "stdout",
          "text": [
            "total validation images: 27315\n"
          ]
        }
      ]
    },
    {
      "cell_type": "markdown",
      "source": [
        "# Import label and task information"
      ],
      "metadata": {
        "id": "GAu9yIANVCh-"
      }
    },
    {
      "cell_type": "code",
      "source": [
        "import json\n",
        "import pandas as pd\n",
        "# loading labels file\n",
        "labels = json.load(open(\"drive/MyDrive/imaterialist-challenge-FGVC2017/fgvc4_iMat.label_map.json\"))\n",
        "\n",
        "# turning labels dict into a df\n",
        "labels_df = pd.DataFrame.from_dict(labels['labelInfo'])\n",
        "\n",
        "# casting str into int\n",
        "labels_df = labels_df.astype({'labelId': int})\n",
        "labels_df.head()"
      ],
      "metadata": {
        "colab": {
          "base_uri": "https://localhost:8080/",
          "height": 206
        },
        "id": "zX-H7JrNVGaU",
        "outputId": "c2af33d5-63d3-48ba-8900-229fe716652d"
      },
      "execution_count": 9,
      "outputs": [
        {
          "output_type": "execute_result",
          "data": {
            "text/plain": [
              "  labelName  labelId\n",
              "0       men        1\n",
              "1     adult        2\n",
              "2     black        3\n",
              "3     women        4\n",
              "4      flat        5"
            ],
            "text/html": [
              "\n",
              "  <div id=\"df-5d4916d9-0952-4555-a222-dc8dc633ba1f\">\n",
              "    <div class=\"colab-df-container\">\n",
              "      <div>\n",
              "<style scoped>\n",
              "    .dataframe tbody tr th:only-of-type {\n",
              "        vertical-align: middle;\n",
              "    }\n",
              "\n",
              "    .dataframe tbody tr th {\n",
              "        vertical-align: top;\n",
              "    }\n",
              "\n",
              "    .dataframe thead th {\n",
              "        text-align: right;\n",
              "    }\n",
              "</style>\n",
              "<table border=\"1\" class=\"dataframe\">\n",
              "  <thead>\n",
              "    <tr style=\"text-align: right;\">\n",
              "      <th></th>\n",
              "      <th>labelName</th>\n",
              "      <th>labelId</th>\n",
              "    </tr>\n",
              "  </thead>\n",
              "  <tbody>\n",
              "    <tr>\n",
              "      <th>0</th>\n",
              "      <td>men</td>\n",
              "      <td>1</td>\n",
              "    </tr>\n",
              "    <tr>\n",
              "      <th>1</th>\n",
              "      <td>adult</td>\n",
              "      <td>2</td>\n",
              "    </tr>\n",
              "    <tr>\n",
              "      <th>2</th>\n",
              "      <td>black</td>\n",
              "      <td>3</td>\n",
              "    </tr>\n",
              "    <tr>\n",
              "      <th>3</th>\n",
              "      <td>women</td>\n",
              "      <td>4</td>\n",
              "    </tr>\n",
              "    <tr>\n",
              "      <th>4</th>\n",
              "      <td>flat</td>\n",
              "      <td>5</td>\n",
              "    </tr>\n",
              "  </tbody>\n",
              "</table>\n",
              "</div>\n",
              "      <button class=\"colab-df-convert\" onclick=\"convertToInteractive('df-5d4916d9-0952-4555-a222-dc8dc633ba1f')\"\n",
              "              title=\"Convert this dataframe to an interactive table.\"\n",
              "              style=\"display:none;\">\n",
              "        \n",
              "  <svg xmlns=\"http://www.w3.org/2000/svg\" height=\"24px\"viewBox=\"0 0 24 24\"\n",
              "       width=\"24px\">\n",
              "    <path d=\"M0 0h24v24H0V0z\" fill=\"none\"/>\n",
              "    <path d=\"M18.56 5.44l.94 2.06.94-2.06 2.06-.94-2.06-.94-.94-2.06-.94 2.06-2.06.94zm-11 1L8.5 8.5l.94-2.06 2.06-.94-2.06-.94L8.5 2.5l-.94 2.06-2.06.94zm10 10l.94 2.06.94-2.06 2.06-.94-2.06-.94-.94-2.06-.94 2.06-2.06.94z\"/><path d=\"M17.41 7.96l-1.37-1.37c-.4-.4-.92-.59-1.43-.59-.52 0-1.04.2-1.43.59L10.3 9.45l-7.72 7.72c-.78.78-.78 2.05 0 2.83L4 21.41c.39.39.9.59 1.41.59.51 0 1.02-.2 1.41-.59l7.78-7.78 2.81-2.81c.8-.78.8-2.07 0-2.86zM5.41 20L4 18.59l7.72-7.72 1.47 1.35L5.41 20z\"/>\n",
              "  </svg>\n",
              "      </button>\n",
              "      \n",
              "  <style>\n",
              "    .colab-df-container {\n",
              "      display:flex;\n",
              "      flex-wrap:wrap;\n",
              "      gap: 12px;\n",
              "    }\n",
              "\n",
              "    .colab-df-convert {\n",
              "      background-color: #E8F0FE;\n",
              "      border: none;\n",
              "      border-radius: 50%;\n",
              "      cursor: pointer;\n",
              "      display: none;\n",
              "      fill: #1967D2;\n",
              "      height: 32px;\n",
              "      padding: 0 0 0 0;\n",
              "      width: 32px;\n",
              "    }\n",
              "\n",
              "    .colab-df-convert:hover {\n",
              "      background-color: #E2EBFA;\n",
              "      box-shadow: 0px 1px 2px rgba(60, 64, 67, 0.3), 0px 1px 3px 1px rgba(60, 64, 67, 0.15);\n",
              "      fill: #174EA6;\n",
              "    }\n",
              "\n",
              "    [theme=dark] .colab-df-convert {\n",
              "      background-color: #3B4455;\n",
              "      fill: #D2E3FC;\n",
              "    }\n",
              "\n",
              "    [theme=dark] .colab-df-convert:hover {\n",
              "      background-color: #434B5C;\n",
              "      box-shadow: 0px 1px 3px 1px rgba(0, 0, 0, 0.15);\n",
              "      filter: drop-shadow(0px 1px 2px rgba(0, 0, 0, 0.3));\n",
              "      fill: #FFFFFF;\n",
              "    }\n",
              "  </style>\n",
              "\n",
              "      <script>\n",
              "        const buttonEl =\n",
              "          document.querySelector('#df-5d4916d9-0952-4555-a222-dc8dc633ba1f button.colab-df-convert');\n",
              "        buttonEl.style.display =\n",
              "          google.colab.kernel.accessAllowed ? 'block' : 'none';\n",
              "\n",
              "        async function convertToInteractive(key) {\n",
              "          const element = document.querySelector('#df-5d4916d9-0952-4555-a222-dc8dc633ba1f');\n",
              "          const dataTable =\n",
              "            await google.colab.kernel.invokeFunction('convertToInteractive',\n",
              "                                                     [key], {});\n",
              "          if (!dataTable) return;\n",
              "\n",
              "          const docLinkHtml = 'Like what you see? Visit the ' +\n",
              "            '<a target=\"_blank\" href=https://colab.research.google.com/notebooks/data_table.ipynb>data table notebook</a>'\n",
              "            + ' to learn more about interactive tables.';\n",
              "          element.innerHTML = '';\n",
              "          dataTable['output_type'] = 'display_data';\n",
              "          await google.colab.output.renderOutput(dataTable, element);\n",
              "          const docLink = document.createElement('div');\n",
              "          docLink.innerHTML = docLinkHtml;\n",
              "          element.appendChild(docLink);\n",
              "        }\n",
              "      </script>\n",
              "    </div>\n",
              "  </div>\n",
              "  "
            ]
          },
          "metadata": {},
          "execution_count": 9
        }
      ]
    },
    {
      "cell_type": "code",
      "source": [
        "# loading tasks file\n",
        "tasks = json.load(open(\"drive/MyDrive/imaterialist-challenge-FGVC2017/fgvc4_iMat.task_map.json\"))\n",
        "tasks.keys()\n",
        "\n",
        "def f(x):\n",
        "    return x.split(\":\")[0][0], x.split(\":\")[0][1]\n",
        "\n",
        "# turning tasks dict into a df\n",
        "tasks_df = pd.DataFrame.from_dict(tasks['taskInfo'])\n",
        "\n",
        "# casting str to int\n",
        "tasks_df = tasks_df.astype({'taskId': int})\n",
        "\n",
        "# splitting the task name into two columns\n",
        "tasks_df[['category', 'label_to_predict']] = pd.DataFrame((tasks_df.apply(lambda x: f(x.str), axis=1)).tolist(), \n",
        "                                                          index=tasks_df.index)\n",
        "tasks_df.head()"
      ],
      "metadata": {
        "colab": {
          "base_uri": "https://localhost:8080/",
          "height": 206
        },
        "id": "3XEc2gtDVYwR",
        "outputId": "ea344d16-2e86-4f99-8c32-c4703114c48e"
      },
      "execution_count": 10,
      "outputs": [
        {
          "output_type": "execute_result",
          "data": {
            "text/plain": [
              "           taskName  taskId category label_to_predict\n",
              "0       shoe:gender       1     shoe           gender\n",
              "1          shoe:age       2     shoe              age\n",
              "2        shoe:color       3     shoe            color\n",
              "3    shoe:up height       4     shoe        up height\n",
              "4  dress:decoration       5    dress       decoration"
            ],
            "text/html": [
              "\n",
              "  <div id=\"df-8799e8cb-eb7b-4695-99d9-879e1e7c0fef\">\n",
              "    <div class=\"colab-df-container\">\n",
              "      <div>\n",
              "<style scoped>\n",
              "    .dataframe tbody tr th:only-of-type {\n",
              "        vertical-align: middle;\n",
              "    }\n",
              "\n",
              "    .dataframe tbody tr th {\n",
              "        vertical-align: top;\n",
              "    }\n",
              "\n",
              "    .dataframe thead th {\n",
              "        text-align: right;\n",
              "    }\n",
              "</style>\n",
              "<table border=\"1\" class=\"dataframe\">\n",
              "  <thead>\n",
              "    <tr style=\"text-align: right;\">\n",
              "      <th></th>\n",
              "      <th>taskName</th>\n",
              "      <th>taskId</th>\n",
              "      <th>category</th>\n",
              "      <th>label_to_predict</th>\n",
              "    </tr>\n",
              "  </thead>\n",
              "  <tbody>\n",
              "    <tr>\n",
              "      <th>0</th>\n",
              "      <td>shoe:gender</td>\n",
              "      <td>1</td>\n",
              "      <td>shoe</td>\n",
              "      <td>gender</td>\n",
              "    </tr>\n",
              "    <tr>\n",
              "      <th>1</th>\n",
              "      <td>shoe:age</td>\n",
              "      <td>2</td>\n",
              "      <td>shoe</td>\n",
              "      <td>age</td>\n",
              "    </tr>\n",
              "    <tr>\n",
              "      <th>2</th>\n",
              "      <td>shoe:color</td>\n",
              "      <td>3</td>\n",
              "      <td>shoe</td>\n",
              "      <td>color</td>\n",
              "    </tr>\n",
              "    <tr>\n",
              "      <th>3</th>\n",
              "      <td>shoe:up height</td>\n",
              "      <td>4</td>\n",
              "      <td>shoe</td>\n",
              "      <td>up height</td>\n",
              "    </tr>\n",
              "    <tr>\n",
              "      <th>4</th>\n",
              "      <td>dress:decoration</td>\n",
              "      <td>5</td>\n",
              "      <td>dress</td>\n",
              "      <td>decoration</td>\n",
              "    </tr>\n",
              "  </tbody>\n",
              "</table>\n",
              "</div>\n",
              "      <button class=\"colab-df-convert\" onclick=\"convertToInteractive('df-8799e8cb-eb7b-4695-99d9-879e1e7c0fef')\"\n",
              "              title=\"Convert this dataframe to an interactive table.\"\n",
              "              style=\"display:none;\">\n",
              "        \n",
              "  <svg xmlns=\"http://www.w3.org/2000/svg\" height=\"24px\"viewBox=\"0 0 24 24\"\n",
              "       width=\"24px\">\n",
              "    <path d=\"M0 0h24v24H0V0z\" fill=\"none\"/>\n",
              "    <path d=\"M18.56 5.44l.94 2.06.94-2.06 2.06-.94-2.06-.94-.94-2.06-.94 2.06-2.06.94zm-11 1L8.5 8.5l.94-2.06 2.06-.94-2.06-.94L8.5 2.5l-.94 2.06-2.06.94zm10 10l.94 2.06.94-2.06 2.06-.94-2.06-.94-.94-2.06-.94 2.06-2.06.94z\"/><path d=\"M17.41 7.96l-1.37-1.37c-.4-.4-.92-.59-1.43-.59-.52 0-1.04.2-1.43.59L10.3 9.45l-7.72 7.72c-.78.78-.78 2.05 0 2.83L4 21.41c.39.39.9.59 1.41.59.51 0 1.02-.2 1.41-.59l7.78-7.78 2.81-2.81c.8-.78.8-2.07 0-2.86zM5.41 20L4 18.59l7.72-7.72 1.47 1.35L5.41 20z\"/>\n",
              "  </svg>\n",
              "      </button>\n",
              "      \n",
              "  <style>\n",
              "    .colab-df-container {\n",
              "      display:flex;\n",
              "      flex-wrap:wrap;\n",
              "      gap: 12px;\n",
              "    }\n",
              "\n",
              "    .colab-df-convert {\n",
              "      background-color: #E8F0FE;\n",
              "      border: none;\n",
              "      border-radius: 50%;\n",
              "      cursor: pointer;\n",
              "      display: none;\n",
              "      fill: #1967D2;\n",
              "      height: 32px;\n",
              "      padding: 0 0 0 0;\n",
              "      width: 32px;\n",
              "    }\n",
              "\n",
              "    .colab-df-convert:hover {\n",
              "      background-color: #E2EBFA;\n",
              "      box-shadow: 0px 1px 2px rgba(60, 64, 67, 0.3), 0px 1px 3px 1px rgba(60, 64, 67, 0.15);\n",
              "      fill: #174EA6;\n",
              "    }\n",
              "\n",
              "    [theme=dark] .colab-df-convert {\n",
              "      background-color: #3B4455;\n",
              "      fill: #D2E3FC;\n",
              "    }\n",
              "\n",
              "    [theme=dark] .colab-df-convert:hover {\n",
              "      background-color: #434B5C;\n",
              "      box-shadow: 0px 1px 3px 1px rgba(0, 0, 0, 0.15);\n",
              "      filter: drop-shadow(0px 1px 2px rgba(0, 0, 0, 0.3));\n",
              "      fill: #FFFFFF;\n",
              "    }\n",
              "  </style>\n",
              "\n",
              "      <script>\n",
              "        const buttonEl =\n",
              "          document.querySelector('#df-8799e8cb-eb7b-4695-99d9-879e1e7c0fef button.colab-df-convert');\n",
              "        buttonEl.style.display =\n",
              "          google.colab.kernel.accessAllowed ? 'block' : 'none';\n",
              "\n",
              "        async function convertToInteractive(key) {\n",
              "          const element = document.querySelector('#df-8799e8cb-eb7b-4695-99d9-879e1e7c0fef');\n",
              "          const dataTable =\n",
              "            await google.colab.kernel.invokeFunction('convertToInteractive',\n",
              "                                                     [key], {});\n",
              "          if (!dataTable) return;\n",
              "\n",
              "          const docLinkHtml = 'Like what you see? Visit the ' +\n",
              "            '<a target=\"_blank\" href=https://colab.research.google.com/notebooks/data_table.ipynb>data table notebook</a>'\n",
              "            + ' to learn more about interactive tables.';\n",
              "          element.innerHTML = '';\n",
              "          dataTable['output_type'] = 'display_data';\n",
              "          await google.colab.output.renderOutput(dataTable, element);\n",
              "          const docLink = document.createElement('div');\n",
              "          docLink.innerHTML = docLinkHtml;\n",
              "          element.appendChild(docLink);\n",
              "        }\n",
              "      </script>\n",
              "    </div>\n",
              "  </div>\n",
              "  "
            ]
          },
          "metadata": {},
          "execution_count": 10
        }
      ]
    },
    {
      "cell_type": "markdown",
      "source": [
        "# Importing train dataset"
      ],
      "metadata": {
        "id": "NU_XIUZE5n72"
      }
    },
    {
      "cell_type": "code",
      "source": [
        "# loading training images file\n",
        "train = json.load(open(\"drive/MyDrive/imaterialist-challenge-FGVC2017/fgvc4_iMat.train.data.json\"))\n",
        "annotations_df = pd.DataFrame.from_records(train['annotations']).astype(int)"
      ],
      "metadata": {
        "id": "1oLNGtpvSC4M"
      },
      "execution_count": 11,
      "outputs": []
    },
    {
      "cell_type": "markdown",
      "source": [
        "## Drop images id not present in the folder"
      ],
      "metadata": {
        "id": "6cDNbAapYLv5"
      }
    },
    {
      "cell_type": "code",
      "source": [
        "train_img_ids = [int(x[:-4]) for x in train_img] # get number ids"
      ],
      "metadata": {
        "id": "559IEz0lXelO"
      },
      "execution_count": 12,
      "outputs": []
    },
    {
      "cell_type": "code",
      "source": [
        "annotations_df_keep = annotations_df[annotations_df.imageId.isin(train_img_ids)]\n",
        "print('All annotations:', len(annotations_df), '\\nAnnotations of images we have:', len(annotations_df_keep))"
      ],
      "metadata": {
        "colab": {
          "base_uri": "https://localhost:8080/"
        },
        "id": "69lMlW5tX5Tn",
        "outputId": "fee3ba06-d8f4-49ff-a21a-3554b1c8f7fa"
      },
      "execution_count": 13,
      "outputs": [
        {
          "output_type": "stream",
          "name": "stdout",
          "text": [
            "All annotations: 62088 \n",
            "Annotations of images we have: 41891\n"
          ]
        }
      ]
    },
    {
      "cell_type": "code",
      "source": [
        "category_df = pd.merge(annotations_df_keep, tasks_df,right_on = 'taskId', left_on = 'taskId')\n",
        "category_df = category_df[['taskId', 'imageId', 'category']]\n",
        "category_df.head()"
      ],
      "metadata": {
        "colab": {
          "base_uri": "https://localhost:8080/",
          "height": 206
        },
        "id": "cdP2P_uIZNr0",
        "outputId": "e83fe639-b79c-42e4-a52e-c20b8c68b6f4"
      },
      "execution_count": 14,
      "outputs": [
        {
          "output_type": "execute_result",
          "data": {
            "text/plain": [
              "   taskId  imageId category\n",
              "0       5        1    dress\n",
              "1       5       41    dress\n",
              "2       5       97    dress\n",
              "3       5      108    dress\n",
              "4       5      116    dress"
            ],
            "text/html": [
              "\n",
              "  <div id=\"df-5a0dc78a-c5f4-4f3b-81d8-2eb40075bfef\">\n",
              "    <div class=\"colab-df-container\">\n",
              "      <div>\n",
              "<style scoped>\n",
              "    .dataframe tbody tr th:only-of-type {\n",
              "        vertical-align: middle;\n",
              "    }\n",
              "\n",
              "    .dataframe tbody tr th {\n",
              "        vertical-align: top;\n",
              "    }\n",
              "\n",
              "    .dataframe thead th {\n",
              "        text-align: right;\n",
              "    }\n",
              "</style>\n",
              "<table border=\"1\" class=\"dataframe\">\n",
              "  <thead>\n",
              "    <tr style=\"text-align: right;\">\n",
              "      <th></th>\n",
              "      <th>taskId</th>\n",
              "      <th>imageId</th>\n",
              "      <th>category</th>\n",
              "    </tr>\n",
              "  </thead>\n",
              "  <tbody>\n",
              "    <tr>\n",
              "      <th>0</th>\n",
              "      <td>5</td>\n",
              "      <td>1</td>\n",
              "      <td>dress</td>\n",
              "    </tr>\n",
              "    <tr>\n",
              "      <th>1</th>\n",
              "      <td>5</td>\n",
              "      <td>41</td>\n",
              "      <td>dress</td>\n",
              "    </tr>\n",
              "    <tr>\n",
              "      <th>2</th>\n",
              "      <td>5</td>\n",
              "      <td>97</td>\n",
              "      <td>dress</td>\n",
              "    </tr>\n",
              "    <tr>\n",
              "      <th>3</th>\n",
              "      <td>5</td>\n",
              "      <td>108</td>\n",
              "      <td>dress</td>\n",
              "    </tr>\n",
              "    <tr>\n",
              "      <th>4</th>\n",
              "      <td>5</td>\n",
              "      <td>116</td>\n",
              "      <td>dress</td>\n",
              "    </tr>\n",
              "  </tbody>\n",
              "</table>\n",
              "</div>\n",
              "      <button class=\"colab-df-convert\" onclick=\"convertToInteractive('df-5a0dc78a-c5f4-4f3b-81d8-2eb40075bfef')\"\n",
              "              title=\"Convert this dataframe to an interactive table.\"\n",
              "              style=\"display:none;\">\n",
              "        \n",
              "  <svg xmlns=\"http://www.w3.org/2000/svg\" height=\"24px\"viewBox=\"0 0 24 24\"\n",
              "       width=\"24px\">\n",
              "    <path d=\"M0 0h24v24H0V0z\" fill=\"none\"/>\n",
              "    <path d=\"M18.56 5.44l.94 2.06.94-2.06 2.06-.94-2.06-.94-.94-2.06-.94 2.06-2.06.94zm-11 1L8.5 8.5l.94-2.06 2.06-.94-2.06-.94L8.5 2.5l-.94 2.06-2.06.94zm10 10l.94 2.06.94-2.06 2.06-.94-2.06-.94-.94-2.06-.94 2.06-2.06.94z\"/><path d=\"M17.41 7.96l-1.37-1.37c-.4-.4-.92-.59-1.43-.59-.52 0-1.04.2-1.43.59L10.3 9.45l-7.72 7.72c-.78.78-.78 2.05 0 2.83L4 21.41c.39.39.9.59 1.41.59.51 0 1.02-.2 1.41-.59l7.78-7.78 2.81-2.81c.8-.78.8-2.07 0-2.86zM5.41 20L4 18.59l7.72-7.72 1.47 1.35L5.41 20z\"/>\n",
              "  </svg>\n",
              "      </button>\n",
              "      \n",
              "  <style>\n",
              "    .colab-df-container {\n",
              "      display:flex;\n",
              "      flex-wrap:wrap;\n",
              "      gap: 12px;\n",
              "    }\n",
              "\n",
              "    .colab-df-convert {\n",
              "      background-color: #E8F0FE;\n",
              "      border: none;\n",
              "      border-radius: 50%;\n",
              "      cursor: pointer;\n",
              "      display: none;\n",
              "      fill: #1967D2;\n",
              "      height: 32px;\n",
              "      padding: 0 0 0 0;\n",
              "      width: 32px;\n",
              "    }\n",
              "\n",
              "    .colab-df-convert:hover {\n",
              "      background-color: #E2EBFA;\n",
              "      box-shadow: 0px 1px 2px rgba(60, 64, 67, 0.3), 0px 1px 3px 1px rgba(60, 64, 67, 0.15);\n",
              "      fill: #174EA6;\n",
              "    }\n",
              "\n",
              "    [theme=dark] .colab-df-convert {\n",
              "      background-color: #3B4455;\n",
              "      fill: #D2E3FC;\n",
              "    }\n",
              "\n",
              "    [theme=dark] .colab-df-convert:hover {\n",
              "      background-color: #434B5C;\n",
              "      box-shadow: 0px 1px 3px 1px rgba(0, 0, 0, 0.15);\n",
              "      filter: drop-shadow(0px 1px 2px rgba(0, 0, 0, 0.3));\n",
              "      fill: #FFFFFF;\n",
              "    }\n",
              "  </style>\n",
              "\n",
              "      <script>\n",
              "        const buttonEl =\n",
              "          document.querySelector('#df-5a0dc78a-c5f4-4f3b-81d8-2eb40075bfef button.colab-df-convert');\n",
              "        buttonEl.style.display =\n",
              "          google.colab.kernel.accessAllowed ? 'block' : 'none';\n",
              "\n",
              "        async function convertToInteractive(key) {\n",
              "          const element = document.querySelector('#df-5a0dc78a-c5f4-4f3b-81d8-2eb40075bfef');\n",
              "          const dataTable =\n",
              "            await google.colab.kernel.invokeFunction('convertToInteractive',\n",
              "                                                     [key], {});\n",
              "          if (!dataTable) return;\n",
              "\n",
              "          const docLinkHtml = 'Like what you see? Visit the ' +\n",
              "            '<a target=\"_blank\" href=https://colab.research.google.com/notebooks/data_table.ipynb>data table notebook</a>'\n",
              "            + ' to learn more about interactive tables.';\n",
              "          element.innerHTML = '';\n",
              "          dataTable['output_type'] = 'display_data';\n",
              "          await google.colab.output.renderOutput(dataTable, element);\n",
              "          const docLink = document.createElement('div');\n",
              "          docLink.innerHTML = docLinkHtml;\n",
              "          element.appendChild(docLink);\n",
              "        }\n",
              "      </script>\n",
              "    </div>\n",
              "  </div>\n",
              "  "
            ]
          },
          "metadata": {},
          "execution_count": 14
        }
      ]
    },
    {
      "cell_type": "code",
      "source": [
        "shoe_imgs = set(category_df[category_df.category == 'shoe'].imageId.unique())\n",
        "dress_imgs = set(category_df[category_df.category == 'dress'].imageId.unique())\n",
        "pants_imgs = set(category_df[category_df.category == 'pants'].imageId.unique())\n",
        "out_imgs = set(category_df[category_df.category == 'outerwear'].imageId.unique())\n",
        "\n",
        "len(shoe_imgs)+len(dress_imgs)+len(pants_imgs)+len(out_imgs)"
      ],
      "metadata": {
        "id": "3xx8GKOBZMAM",
        "colab": {
          "base_uri": "https://localhost:8080/"
        },
        "outputId": "b5997bb3-ae15-4abd-b2fc-e3c7581c0256"
      },
      "execution_count": 15,
      "outputs": [
        {
          "output_type": "execute_result",
          "data": {
            "text/plain": [
              "27339"
            ]
          },
          "metadata": {},
          "execution_count": 15
        }
      ]
    },
    {
      "cell_type": "markdown",
      "source": [
        "Controlliamo se alcuni image id sono in più di un set.\n"
      ],
      "metadata": {
        "id": "Lfp5fFABV_Uw"
      }
    },
    {
      "cell_type": "code",
      "source": [
        "shoe_imgs.intersection(dress_imgs)"
      ],
      "metadata": {
        "colab": {
          "base_uri": "https://localhost:8080/"
        },
        "id": "HU-u9H7FWAZD",
        "outputId": "17ac8b5b-a569-4de4-a0a8-7b56436c8ddb"
      },
      "execution_count": 16,
      "outputs": [
        {
          "output_type": "execute_result",
          "data": {
            "text/plain": [
              "{292, 11378, 13466}"
            ]
          },
          "metadata": {},
          "execution_count": 16
        }
      ]
    },
    {
      "cell_type": "code",
      "source": [
        "shoe_imgs.intersection(pants_imgs)"
      ],
      "metadata": {
        "colab": {
          "base_uri": "https://localhost:8080/"
        },
        "id": "V3JvZn7pWFKj",
        "outputId": "36ad6e62-b18e-4e7f-f1a2-e014b3873164"
      },
      "execution_count": 53,
      "outputs": [
        {
          "output_type": "execute_result",
          "data": {
            "text/plain": [
              "{37654}"
            ]
          },
          "metadata": {},
          "execution_count": 53
        }
      ]
    },
    {
      "cell_type": "code",
      "source": [
        "shoe_imgs.intersection(out_imgs)"
      ],
      "metadata": {
        "colab": {
          "base_uri": "https://localhost:8080/"
        },
        "id": "Py0rYvI3WG6u",
        "outputId": "79e26c2b-e1d2-4a32-b323-a932becd0e5b"
      },
      "execution_count": 54,
      "outputs": [
        {
          "output_type": "execute_result",
          "data": {
            "text/plain": [
              "{4090, 6631, 32978}"
            ]
          },
          "metadata": {},
          "execution_count": 54
        }
      ]
    },
    {
      "cell_type": "code",
      "source": [
        "dress_imgs.intersection(pants_imgs)"
      ],
      "metadata": {
        "colab": {
          "base_uri": "https://localhost:8080/"
        },
        "id": "Qx1kk1qJWIj5",
        "outputId": "5e98abbe-30cf-48f3-dc37-75e31c5720e0"
      },
      "execution_count": 55,
      "outputs": [
        {
          "output_type": "execute_result",
          "data": {
            "text/plain": [
              "set()"
            ]
          },
          "metadata": {},
          "execution_count": 55
        }
      ]
    },
    {
      "cell_type": "code",
      "source": [
        "dress_imgs.intersection(out_imgs)"
      ],
      "metadata": {
        "colab": {
          "base_uri": "https://localhost:8080/"
        },
        "id": "qZGltxcYWJaC",
        "outputId": "4b15d15d-ee31-48bd-b5b0-3aa7570b4d15"
      },
      "execution_count": 56,
      "outputs": [
        {
          "output_type": "execute_result",
          "data": {
            "text/plain": [
              "{15601}"
            ]
          },
          "metadata": {},
          "execution_count": 56
        }
      ]
    },
    {
      "cell_type": "code",
      "source": [
        "pants_imgs.intersection(out_imgs)"
      ],
      "metadata": {
        "colab": {
          "base_uri": "https://localhost:8080/"
        },
        "id": "LZ0iMr8VWKsL",
        "outputId": "e80ccf8e-77f6-4835-bf01-28b91e789a56"
      },
      "execution_count": 57,
      "outputs": [
        {
          "output_type": "execute_result",
          "data": {
            "text/plain": [
              "{2097,\n",
              " 4884,\n",
              " 5822,\n",
              " 11124,\n",
              " 12443,\n",
              " 12728,\n",
              " 13479,\n",
              " 13515,\n",
              " 22732,\n",
              " 24854,\n",
              " 26795,\n",
              " 27113,\n",
              " 28016,\n",
              " 28282,\n",
              " 31917,\n",
              " 39406}"
            ]
          },
          "metadata": {},
          "execution_count": 57
        }
      ]
    },
    {
      "cell_type": "code",
      "source": [
        "to_drop = [292, 11378, 13466, 37654, 4090, 6631, 32978, 15601, 2097,\n",
        " 4884,\n",
        " 5822,\n",
        " 11124,\n",
        " 12443,\n",
        " 12728,\n",
        " 13479,\n",
        " 13515,\n",
        " 22732,\n",
        " 24854,\n",
        " 26795,\n",
        " 27113,\n",
        " 28016,\n",
        " 28282,\n",
        " 31917,\n",
        " 39406]"
      ],
      "metadata": {
        "id": "IWAOHxAwOQla"
      },
      "execution_count": 17,
      "outputs": []
    },
    {
      "cell_type": "markdown",
      "source": [
        "24 immagini appartengono a due categorie."
      ],
      "metadata": {
        "id": "ssG0JRJzWN0J"
      }
    },
    {
      "cell_type": "code",
      "source": [
        "import matplotlib.pyplot as plt\n",
        "values = [len(x) for x in (shoe_imgs, dress_imgs, out_imgs, pants_imgs)]\n",
        "labels = ['shoes','dresses','outerwear','pants']\n",
        "plt.bar(x = [0,1,2,3], height = values)\n",
        "for i, v in enumerate(values):\n",
        "    plt.text(i-0.2, v-1000, str(v), color = 'white')\n",
        "plt.xticks(ticks = [0,1,2,3], labels = labels)\n",
        "plt.show()"
      ],
      "metadata": {
        "colab": {
          "base_uri": "https://localhost:8080/",
          "height": 265
        },
        "id": "k_cMPXscWNe3",
        "outputId": "e842101e-47b0-4fac-eb8b-6edf2c83c982"
      },
      "execution_count": 18,
      "outputs": [
        {
          "output_type": "display_data",
          "data": {
            "text/plain": [
              "<Figure size 432x288 with 1 Axes>"
            ],
            "image/png": "[encoded data removed]"
          },
          "metadata": {
            "needs_background": "light"
          }
        }
      ]
    },
    {
      "cell_type": "code",
      "source": [
        "len(category_df.imageId.unique())"
      ],
      "metadata": {
        "colab": {
          "base_uri": "https://localhost:8080/"
        },
        "id": "QjP2XIpIKcKK",
        "outputId": "0428e94d-a950-4c19-a3ab-272c0e4ef08e"
      },
      "execution_count": 19,
      "outputs": [
        {
          "output_type": "execute_result",
          "data": {
            "text/plain": [
              "27315"
            ]
          },
          "metadata": {},
          "execution_count": 19
        }
      ]
    },
    {
      "cell_type": "code",
      "source": [
        "category_df = category_df.drop(columns = ['taskId'])\n",
        "category_df = category_df.drop_duplicates()"
      ],
      "metadata": {
        "id": "6TqgJAHFKohj"
      },
      "execution_count": 20,
      "outputs": []
    },
    {
      "cell_type": "code",
      "source": [
        "category_df[~category_df.imageId.isin(to_drop)]"
      ],
      "metadata": {
        "colab": {
          "base_uri": "https://localhost:8080/",
          "height": 424
        },
        "id": "oRpcjQb8LJQa",
        "outputId": "3b9cc828-c24b-4724-aa25-ec67e4d20a61"
      },
      "execution_count": 21,
      "outputs": [
        {
          "output_type": "execute_result",
          "data": {
            "text/plain": [
              "       imageId category\n",
              "0            1    dress\n",
              "1           41    dress\n",
              "2           97    dress\n",
              "3          108    dress\n",
              "4          116    dress\n",
              "...        ...      ...\n",
              "41809    33120    pants\n",
              "41810    33601    pants\n",
              "41811    33735    pants\n",
              "41813    33952    pants\n",
              "41814    34065    pants\n",
              "\n",
              "[27291 rows x 2 columns]"
            ],
            "text/html": [
              "\n",
              "  <div id=\"df-1f1de35c-1260-46cb-aef6-64c5ec77e3ad\">\n",
              "    <div class=\"colab-df-container\">\n",
              "      <div>\n",
              "<style scoped>\n",
              "    .dataframe tbody tr th:only-of-type {\n",
              "        vertical-align: middle;\n",
              "    }\n",
              "\n",
              "    .dataframe tbody tr th {\n",
              "        vertical-align: top;\n",
              "    }\n",
              "\n",
              "    .dataframe thead th {\n",
              "        text-align: right;\n",
              "    }\n",
              "</style>\n",
              "<table border=\"1\" class=\"dataframe\">\n",
              "  <thead>\n",
              "    <tr style=\"text-align: right;\">\n",
              "      <th></th>\n",
              "      <th>imageId</th>\n",
              "      <th>category</th>\n",
              "    </tr>\n",
              "  </thead>\n",
              "  <tbody>\n",
              "    <tr>\n",
              "      <th>0</th>\n",
              "      <td>1</td>\n",
              "      <td>dress</td>\n",
              "    </tr>\n",
              "    <tr>\n",
              "      <th>1</th>\n",
              "      <td>41</td>\n",
              "      <td>dress</td>\n",
              "    </tr>\n",
              "    <tr>\n",
              "      <th>2</th>\n",
              "      <td>97</td>\n",
              "      <td>dress</td>\n",
              "    </tr>\n",
              "    <tr>\n",
              "      <th>3</th>\n",
              "      <td>108</td>\n",
              "      <td>dress</td>\n",
              "    </tr>\n",
              "    <tr>\n",
              "      <th>4</th>\n",
              "      <td>116</td>\n",
              "      <td>dress</td>\n",
              "    </tr>\n",
              "    <tr>\n",
              "      <th>...</th>\n",
              "      <td>...</td>\n",
              "      <td>...</td>\n",
              "    </tr>\n",
              "    <tr>\n",
              "      <th>41809</th>\n",
              "      <td>33120</td>\n",
              "      <td>pants</td>\n",
              "    </tr>\n",
              "    <tr>\n",
              "      <th>41810</th>\n",
              "      <td>33601</td>\n",
              "      <td>pants</td>\n",
              "    </tr>\n",
              "    <tr>\n",
              "      <th>41811</th>\n",
              "      <td>33735</td>\n",
              "      <td>pants</td>\n",
              "    </tr>\n",
              "    <tr>\n",
              "      <th>41813</th>\n",
              "      <td>33952</td>\n",
              "      <td>pants</td>\n",
              "    </tr>\n",
              "    <tr>\n",
              "      <th>41814</th>\n",
              "      <td>34065</td>\n",
              "      <td>pants</td>\n",
              "    </tr>\n",
              "  </tbody>\n",
              "</table>\n",
              "<p>27291 rows × 2 columns</p>\n",
              "</div>\n",
              "      <button class=\"colab-df-convert\" onclick=\"convertToInteractive('df-1f1de35c-1260-46cb-aef6-64c5ec77e3ad')\"\n",
              "              title=\"Convert this dataframe to an interactive table.\"\n",
              "              style=\"display:none;\">\n",
              "        \n",
              "  <svg xmlns=\"http://www.w3.org/2000/svg\" height=\"24px\"viewBox=\"0 0 24 24\"\n",
              "       width=\"24px\">\n",
              "    <path d=\"M0 0h24v24H0V0z\" fill=\"none\"/>\n",
              "    <path d=\"M18.56 5.44l.94 2.06.94-2.06 2.06-.94-2.06-.94-.94-2.06-.94 2.06-2.06.94zm-11 1L8.5 8.5l.94-2.06 2.06-.94-2.06-.94L8.5 2.5l-.94 2.06-2.06.94zm10 10l.94 2.06.94-2.06 2.06-.94-2.06-.94-.94-2.06-.94 2.06-2.06.94z\"/><path d=\"M17.41 7.96l-1.37-1.37c-.4-.4-.92-.59-1.43-.59-.52 0-1.04.2-1.43.59L10.3 9.45l-7.72 7.72c-.78.78-.78 2.05 0 2.83L4 21.41c.39.39.9.59 1.41.59.51 0 1.02-.2 1.41-.59l7.78-7.78 2.81-2.81c.8-.78.8-2.07 0-2.86zM5.41 20L4 18.59l7.72-7.72 1.47 1.35L5.41 20z\"/>\n",
              "  </svg>\n",
              "      </button>\n",
              "      \n",
              "  <style>\n",
              "    .colab-df-container {\n",
              "      display:flex;\n",
              "      flex-wrap:wrap;\n",
              "      gap: 12px;\n",
              "    }\n",
              "\n",
              "    .colab-df-convert {\n",
              "      background-color: #E8F0FE;\n",
              "      border: none;\n",
              "      border-radius: 50%;\n",
              "      cursor: pointer;\n",
              "      display: none;\n",
              "      fill: #1967D2;\n",
              "      height: 32px;\n",
              "      padding: 0 0 0 0;\n",
              "      width: 32px;\n",
              "    }\n",
              "\n",
              "    .colab-df-convert:hover {\n",
              "      background-color: #E2EBFA;\n",
              "      box-shadow: 0px 1px 2px rgba(60, 64, 67, 0.3), 0px 1px 3px 1px rgba(60, 64, 67, 0.15);\n",
              "      fill: #174EA6;\n",
              "    }\n",
              "\n",
              "    [theme=dark] .colab-df-convert {\n",
              "      background-color: #3B4455;\n",
              "      fill: #D2E3FC;\n",
              "    }\n",
              "\n",
              "    [theme=dark] .colab-df-convert:hover {\n",
              "      background-color: #434B5C;\n",
              "      box-shadow: 0px 1px 3px 1px rgba(0, 0, 0, 0.15);\n",
              "      filter: drop-shadow(0px 1px 2px rgba(0, 0, 0, 0.3));\n",
              "      fill: #FFFFFF;\n",
              "    }\n",
              "  </style>\n",
              "\n",
              "      <script>\n",
              "        const buttonEl =\n",
              "          document.querySelector('#df-1f1de35c-1260-46cb-aef6-64c5ec77e3ad button.colab-df-convert');\n",
              "        buttonEl.style.display =\n",
              "          google.colab.kernel.accessAllowed ? 'block' : 'none';\n",
              "\n",
              "        async function convertToInteractive(key) {\n",
              "          const element = document.querySelector('#df-1f1de35c-1260-46cb-aef6-64c5ec77e3ad');\n",
              "          const dataTable =\n",
              "            await google.colab.kernel.invokeFunction('convertToInteractive',\n",
              "                                                     [key], {});\n",
              "          if (!dataTable) return;\n",
              "\n",
              "          const docLinkHtml = 'Like what you see? Visit the ' +\n",
              "            '<a target=\"_blank\" href=https://colab.research.google.com/notebooks/data_table.ipynb>data table notebook</a>'\n",
              "            + ' to learn more about interactive tables.';\n",
              "          element.innerHTML = '';\n",
              "          dataTable['output_type'] = 'display_data';\n",
              "          await google.colab.output.renderOutput(dataTable, element);\n",
              "          const docLink = document.createElement('div');\n",
              "          docLink.innerHTML = docLinkHtml;\n",
              "          element.appendChild(docLink);\n",
              "        }\n",
              "      </script>\n",
              "    </div>\n",
              "  </div>\n",
              "  "
            ]
          },
          "metadata": {},
          "execution_count": 21
        }
      ]
    },
    {
      "cell_type": "markdown",
      "source": [
        "## Create label folders and move images"
      ],
      "metadata": {
        "id": "wnWn_pK1QlED"
      }
    },
    {
      "cell_type": "code",
      "source": [
        "dress_df = category_df[category_df.category == 'dress']\n",
        "pants_df = category_df[category_df.category == 'pants']\n",
        "out_df = category_df[category_df.category == 'outerwear']\n",
        "shoes_df = category_df[category_df.category == 'shoes']"
      ],
      "metadata": {
        "id": "L4fbGvHNQqDB"
      },
      "execution_count": 38,
      "outputs": []
    },
    {
      "cell_type": "code",
      "source": [
        "import os\n",
        "from os import listdir\n",
        "import shutil\n",
        "\n",
        "for i in ['pants', 'shoes', 'outerwear', 'dress']:\n",
        "    base_dir = '/content/project/train'\n",
        "    source = '/content/train_images'\n",
        "\n",
        "    destination = os.path.join(base_dir, i)\n",
        "\n",
        "    # gather all files\n",
        "    allfiles = list(category_df[category_df.category == i].imageId.unique())\n",
        "\n",
        "    # iterate on all files to move them to destination folder\n",
        "    for f in allfiles:\n",
        "        f = str(f) + '.jpg'\n",
        "        src_path = os.path.join(source, f)\n",
        "        dst_path = os.path.join(destination, f)\n",
        "        shutil.copy(src_path, dst_path)"
      ],
      "metadata": {
        "id": "9gA40pzvRiNS"
      },
      "execution_count": 69,
      "outputs": []
    },
    {
      "cell_type": "markdown",
      "source": [
        "# Import validation dataset"
      ],
      "metadata": {
        "id": "p-4_6rrk6XJ5"
      }
    },
    {
      "cell_type": "code",
      "source": [
        "# loading training images file\n",
        "validation = json.load(open(\"drive/MyDrive/imaterialist-challenge-FGVC2017/fgvc4_iMat.validation.data.json\"))\n",
        "annotations_df_val = pd.DataFrame.from_records(validation['annotations']).astype(int)"
      ],
      "metadata": {
        "id": "fYTzzYvW6aOs"
      },
      "execution_count": 22,
      "outputs": []
    },
    {
      "cell_type": "markdown",
      "source": [
        "## Drop images id not present in the folder"
      ],
      "metadata": {
        "id": "ixilR3RK6ooj"
      }
    },
    {
      "cell_type": "code",
      "source": [
        "validation_img_ids = [int(x[:-4]) for x in validation_img] # get number ids"
      ],
      "metadata": {
        "id": "bqXc9W0C6rS5"
      },
      "execution_count": 23,
      "outputs": []
    },
    {
      "cell_type": "code",
      "source": [
        "annotations_df_keep_val = annotations_df_val[annotations_df_val.imageId.isin(validation_img_ids)]\n",
        "print('All annotations:', len(annotations_df_val), '\\nAnnotations of images we have:', len(annotations_df_keep_val))"
      ],
      "metadata": {
        "colab": {
          "base_uri": "https://localhost:8080/"
        },
        "id": "r_Cmllet6ya3",
        "outputId": "ff172119-a8b2-4c97-e15a-377d24cea99d"
      },
      "execution_count": 24,
      "outputs": [
        {
          "output_type": "stream",
          "name": "stdout",
          "text": [
            "All annotations: 12406 \n",
            "Annotations of images we have: 7713\n"
          ]
        }
      ]
    },
    {
      "cell_type": "code",
      "source": [
        "category_df_val = pd.merge(annotations_df_keep_val, tasks_df,right_on = 'taskId', left_on = 'taskId')\n",
        "category_df_val = category_df_val[['taskId', 'imageId', 'category']]\n",
        "category_df_val.head()"
      ],
      "metadata": {
        "colab": {
          "base_uri": "https://localhost:8080/",
          "height": 206
        },
        "id": "MzigkrMN6-do",
        "outputId": "06cec005-1fc5-460d-c853-c448b26f842d"
      },
      "execution_count": 25,
      "outputs": [
        {
          "output_type": "execute_result",
          "data": {
            "text/plain": [
              "   taskId  imageId category\n",
              "0       1        1     shoe\n",
              "1       1        7     shoe\n",
              "2       1       24     shoe\n",
              "3       1       39     shoe\n",
              "4       1       54     shoe"
            ],
            "text/html": [
              "\n",
              "  <div id=\"df-c8dc03c3-c2d7-40a8-b014-8466aba3b63b\">\n",
              "    <div class=\"colab-df-container\">\n",
              "      <div>\n",
              "<style scoped>\n",
              "    .dataframe tbody tr th:only-of-type {\n",
              "        vertical-align: middle;\n",
              "    }\n",
              "\n",
              "    .dataframe tbody tr th {\n",
              "        vertical-align: top;\n",
              "    }\n",
              "\n",
              "    .dataframe thead th {\n",
              "        text-align: right;\n",
              "    }\n",
              "</style>\n",
              "<table border=\"1\" class=\"dataframe\">\n",
              "  <thead>\n",
              "    <tr style=\"text-align: right;\">\n",
              "      <th></th>\n",
              "      <th>taskId</th>\n",
              "      <th>imageId</th>\n",
              "      <th>category</th>\n",
              "    </tr>\n",
              "  </thead>\n",
              "  <tbody>\n",
              "    <tr>\n",
              "      <th>0</th>\n",
              "      <td>1</td>\n",
              "      <td>1</td>\n",
              "      <td>shoe</td>\n",
              "    </tr>\n",
              "    <tr>\n",
              "      <th>1</th>\n",
              "      <td>1</td>\n",
              "      <td>7</td>\n",
              "      <td>shoe</td>\n",
              "    </tr>\n",
              "    <tr>\n",
              "      <th>2</th>\n",
              "      <td>1</td>\n",
              "      <td>24</td>\n",
              "      <td>shoe</td>\n",
              "    </tr>\n",
              "    <tr>\n",
              "      <th>3</th>\n",
              "      <td>1</td>\n",
              "      <td>39</td>\n",
              "      <td>shoe</td>\n",
              "    </tr>\n",
              "    <tr>\n",
              "      <th>4</th>\n",
              "      <td>1</td>\n",
              "      <td>54</td>\n",
              "      <td>shoe</td>\n",
              "    </tr>\n",
              "  </tbody>\n",
              "</table>\n",
              "</div>\n",
              "      <button class=\"colab-df-convert\" onclick=\"convertToInteractive('df-c8dc03c3-c2d7-40a8-b014-8466aba3b63b')\"\n",
              "              title=\"Convert this dataframe to an interactive table.\"\n",
              "              style=\"display:none;\">\n",
              "        \n",
              "  <svg xmlns=\"http://www.w3.org/2000/svg\" height=\"24px\"viewBox=\"0 0 24 24\"\n",
              "       width=\"24px\">\n",
              "    <path d=\"M0 0h24v24H0V0z\" fill=\"none\"/>\n",
              "    <path d=\"M18.56 5.44l.94 2.06.94-2.06 2.06-.94-2.06-.94-.94-2.06-.94 2.06-2.06.94zm-11 1L8.5 8.5l.94-2.06 2.06-.94-2.06-.94L8.5 2.5l-.94 2.06-2.06.94zm10 10l.94 2.06.94-2.06 2.06-.94-2.06-.94-.94-2.06-.94 2.06-2.06.94z\"/><path d=\"M17.41 7.96l-1.37-1.37c-.4-.4-.92-.59-1.43-.59-.52 0-1.04.2-1.43.59L10.3 9.45l-7.72 7.72c-.78.78-.78 2.05 0 2.83L4 21.41c.39.39.9.59 1.41.59.51 0 1.02-.2 1.41-.59l7.78-7.78 2.81-2.81c.8-.78.8-2.07 0-2.86zM5.41 20L4 18.59l7.72-7.72 1.47 1.35L5.41 20z\"/>\n",
              "  </svg>\n",
              "      </button>\n",
              "      \n",
              "  <style>\n",
              "    .colab-df-container {\n",
              "      display:flex;\n",
              "      flex-wrap:wrap;\n",
              "      gap: 12px;\n",
              "    }\n",
              "\n",
              "    .colab-df-convert {\n",
              "      background-color: #E8F0FE;\n",
              "      border: none;\n",
              "      border-radius: 50%;\n",
              "      cursor: pointer;\n",
              "      display: none;\n",
              "      fill: #1967D2;\n",
              "      height: 32px;\n",
              "      padding: 0 0 0 0;\n",
              "      width: 32px;\n",
              "    }\n",
              "\n",
              "    .colab-df-convert:hover {\n",
              "      background-color: #E2EBFA;\n",
              "      box-shadow: 0px 1px 2px rgba(60, 64, 67, 0.3), 0px 1px 3px 1px rgba(60, 64, 67, 0.15);\n",
              "      fill: #174EA6;\n",
              "    }\n",
              "\n",
              "    [theme=dark] .colab-df-convert {\n",
              "      background-color: #3B4455;\n",
              "      fill: #D2E3FC;\n",
              "    }\n",
              "\n",
              "    [theme=dark] .colab-df-convert:hover {\n",
              "      background-color: #434B5C;\n",
              "      box-shadow: 0px 1px 3px 1px rgba(0, 0, 0, 0.15);\n",
              "      filter: drop-shadow(0px 1px 2px rgba(0, 0, 0, 0.3));\n",
              "      fill: #FFFFFF;\n",
              "    }\n",
              "  </style>\n",
              "\n",
              "      <script>\n",
              "        const buttonEl =\n",
              "          document.querySelector('#df-c8dc03c3-c2d7-40a8-b014-8466aba3b63b button.colab-df-convert');\n",
              "        buttonEl.style.display =\n",
              "          google.colab.kernel.accessAllowed ? 'block' : 'none';\n",
              "\n",
              "        async function convertToInteractive(key) {\n",
              "          const element = document.querySelector('#df-c8dc03c3-c2d7-40a8-b014-8466aba3b63b');\n",
              "          const dataTable =\n",
              "            await google.colab.kernel.invokeFunction('convertToInteractive',\n",
              "                                                     [key], {});\n",
              "          if (!dataTable) return;\n",
              "\n",
              "          const docLinkHtml = 'Like what you see? Visit the ' +\n",
              "            '<a target=\"_blank\" href=https://colab.research.google.com/notebooks/data_table.ipynb>data table notebook</a>'\n",
              "            + ' to learn more about interactive tables.';\n",
              "          element.innerHTML = '';\n",
              "          dataTable['output_type'] = 'display_data';\n",
              "          await google.colab.output.renderOutput(dataTable, element);\n",
              "          const docLink = document.createElement('div');\n",
              "          docLink.innerHTML = docLinkHtml;\n",
              "          element.appendChild(docLink);\n",
              "        }\n",
              "      </script>\n",
              "    </div>\n",
              "  </div>\n",
              "  "
            ]
          },
          "metadata": {},
          "execution_count": 25
        }
      ]
    },
    {
      "cell_type": "code",
      "source": [
        "shoe_imgs_val = set(category_df_val[category_df_val.category == 'shoe'].imageId.unique())\n",
        "dress_imgs_val = set(category_df_val[category_df_val.category == 'dress'].imageId.unique())\n",
        "pants_imgs_val = set(category_df_val[category_df_val.category == 'pants'].imageId.unique())\n",
        "out_imgs_val = set(category_df_val[category_df_val.category == 'outerwear'].imageId.unique())\n",
        "\n",
        "len(shoe_imgs_val)+len(dress_imgs_val)+len(pants_imgs_val)+len(out_imgs_val)"
      ],
      "metadata": {
        "colab": {
          "base_uri": "https://localhost:8080/"
        },
        "id": "EVaQwptS7Jjc",
        "outputId": "2f1b12be-223a-4990-a256-9a86a2045e95"
      },
      "execution_count": 26,
      "outputs": [
        {
          "output_type": "execute_result",
          "data": {
            "text/plain": [
              "5238"
            ]
          },
          "metadata": {},
          "execution_count": 26
        }
      ]
    },
    {
      "cell_type": "code",
      "source": [
        "shoe_imgs_val.intersection(dress_imgs_val)"
      ],
      "metadata": {
        "colab": {
          "base_uri": "https://localhost:8080/"
        },
        "outputId": "6893b153-59c4-4ce7-954f-7bd8e1be4aef",
        "id": "AGt8tGET7pcv"
      },
      "execution_count": 27,
      "outputs": [
        {
          "output_type": "execute_result",
          "data": {
            "text/plain": [
              "{4821}"
            ]
          },
          "metadata": {},
          "execution_count": 27
        }
      ]
    },
    {
      "cell_type": "code",
      "source": [
        "shoe_imgs_val.intersection(pants_imgs_val)"
      ],
      "metadata": {
        "colab": {
          "base_uri": "https://localhost:8080/"
        },
        "outputId": "3517c306-f6d0-4a7d-fa61-a41ece82cb53",
        "id": "E2wZXoM_7pcy"
      },
      "execution_count": 28,
      "outputs": [
        {
          "output_type": "execute_result",
          "data": {
            "text/plain": [
              "{3717}"
            ]
          },
          "metadata": {},
          "execution_count": 28
        }
      ]
    },
    {
      "cell_type": "code",
      "source": [
        "shoe_imgs_val.intersection(out_imgs_val)"
      ],
      "metadata": {
        "colab": {
          "base_uri": "https://localhost:8080/"
        },
        "outputId": "7339d9cd-4091-4b18-b141-208202872ac1",
        "id": "8kCeiigG7pc0"
      },
      "execution_count": 29,
      "outputs": [
        {
          "output_type": "execute_result",
          "data": {
            "text/plain": [
              "{825}"
            ]
          },
          "metadata": {},
          "execution_count": 29
        }
      ]
    },
    {
      "cell_type": "code",
      "source": [
        "dress_imgs_val.intersection(pants_imgs_val)"
      ],
      "metadata": {
        "colab": {
          "base_uri": "https://localhost:8080/"
        },
        "outputId": "91028340-71dd-474c-fd50-f745ca38193a",
        "id": "uDN9_lgO7pc3"
      },
      "execution_count": 30,
      "outputs": [
        {
          "output_type": "execute_result",
          "data": {
            "text/plain": [
              "{1743}"
            ]
          },
          "metadata": {},
          "execution_count": 30
        }
      ]
    },
    {
      "cell_type": "code",
      "source": [
        "dress_imgs_val.intersection(out_imgs_val)"
      ],
      "metadata": {
        "colab": {
          "base_uri": "https://localhost:8080/"
        },
        "outputId": "94e807ce-1137-48e2-eedb-db985fe6982c",
        "id": "m-8E-pgR7pc5"
      },
      "execution_count": 31,
      "outputs": [
        {
          "output_type": "execute_result",
          "data": {
            "text/plain": [
              "{1694, 2653}"
            ]
          },
          "metadata": {},
          "execution_count": 31
        }
      ]
    },
    {
      "cell_type": "code",
      "source": [
        "pants_imgs_val.intersection(out_imgs_val)"
      ],
      "metadata": {
        "colab": {
          "base_uri": "https://localhost:8080/"
        },
        "outputId": "9605c642-8cba-4980-f9b5-c3f26e5c9901",
        "id": "8cjXvmw97pc7"
      },
      "execution_count": 32,
      "outputs": [
        {
          "output_type": "execute_result",
          "data": {
            "text/plain": [
              "{367, 7238}"
            ]
          },
          "metadata": {},
          "execution_count": 32
        }
      ]
    },
    {
      "cell_type": "code",
      "source": [
        "to_drop_val = [4821,3717,825, 1743,1694, 2653,367, 7238]"
      ],
      "metadata": {
        "id": "WdR08ypq71Xi"
      },
      "execution_count": 33,
      "outputs": []
    },
    {
      "cell_type": "code",
      "source": [
        "category_df_val = category_df_val.drop(columns = ['taskId'])\n",
        "category_df_val = category_df_val.drop_duplicates()"
      ],
      "metadata": {
        "id": "UE8FrP0s8Lfp"
      },
      "execution_count": 35,
      "outputs": []
    },
    {
      "cell_type": "code",
      "source": [
        "category_df_val[~category_df_val.imageId.isin(to_drop)]"
      ],
      "metadata": {
        "colab": {
          "base_uri": "https://localhost:8080/",
          "height": 424
        },
        "id": "shtEt8lg8VVl",
        "outputId": "d906b2dc-91ca-46ad-cf78-4cd97794e954"
      },
      "execution_count": 36,
      "outputs": [
        {
          "output_type": "execute_result",
          "data": {
            "text/plain": [
              "      imageId category\n",
              "0           1     shoe\n",
              "1           7     shoe\n",
              "2          24     shoe\n",
              "3          39     shoe\n",
              "4          54     shoe\n",
              "...       ...      ...\n",
              "7703     3802     shoe\n",
              "7704     5219     shoe\n",
              "7705     6839     shoe\n",
              "7708     7526     shoe\n",
              "7711     8016     shoe\n",
              "\n",
              "[5232 rows x 2 columns]"
            ],
            "text/html": [
              "\n",
              "  <div id=\"df-037622e4-3371-49a0-ab71-ae4765721186\">\n",
              "    <div class=\"colab-df-container\">\n",
              "      <div>\n",
              "<style scoped>\n",
              "    .dataframe tbody tr th:only-of-type {\n",
              "        vertical-align: middle;\n",
              "    }\n",
              "\n",
              "    .dataframe tbody tr th {\n",
              "        vertical-align: top;\n",
              "    }\n",
              "\n",
              "    .dataframe thead th {\n",
              "        text-align: right;\n",
              "    }\n",
              "</style>\n",
              "<table border=\"1\" class=\"dataframe\">\n",
              "  <thead>\n",
              "    <tr style=\"text-align: right;\">\n",
              "      <th></th>\n",
              "      <th>imageId</th>\n",
              "      <th>category</th>\n",
              "    </tr>\n",
              "  </thead>\n",
              "  <tbody>\n",
              "    <tr>\n",
              "      <th>0</th>\n",
              "      <td>1</td>\n",
              "      <td>shoe</td>\n",
              "    </tr>\n",
              "    <tr>\n",
              "      <th>1</th>\n",
              "      <td>7</td>\n",
              "      <td>shoe</td>\n",
              "    </tr>\n",
              "    <tr>\n",
              "      <th>2</th>\n",
              "      <td>24</td>\n",
              "      <td>shoe</td>\n",
              "    </tr>\n",
              "    <tr>\n",
              "      <th>3</th>\n",
              "      <td>39</td>\n",
              "      <td>shoe</td>\n",
              "    </tr>\n",
              "    <tr>\n",
              "      <th>4</th>\n",
              "      <td>54</td>\n",
              "      <td>shoe</td>\n",
              "    </tr>\n",
              "    <tr>\n",
              "      <th>...</th>\n",
              "      <td>...</td>\n",
              "      <td>...</td>\n",
              "    </tr>\n",
              "    <tr>\n",
              "      <th>7703</th>\n",
              "      <td>3802</td>\n",
              "      <td>shoe</td>\n",
              "    </tr>\n",
              "    <tr>\n",
              "      <th>7704</th>\n",
              "      <td>5219</td>\n",
              "      <td>shoe</td>\n",
              "    </tr>\n",
              "    <tr>\n",
              "      <th>7705</th>\n",
              "      <td>6839</td>\n",
              "      <td>shoe</td>\n",
              "    </tr>\n",
              "    <tr>\n",
              "      <th>7708</th>\n",
              "      <td>7526</td>\n",
              "      <td>shoe</td>\n",
              "    </tr>\n",
              "    <tr>\n",
              "      <th>7711</th>\n",
              "      <td>8016</td>\n",
              "      <td>shoe</td>\n",
              "    </tr>\n",
              "  </tbody>\n",
              "</table>\n",
              "<p>5232 rows × 2 columns</p>\n",
              "</div>\n",
              "      <button class=\"colab-df-convert\" onclick=\"convertToInteractive('df-037622e4-3371-49a0-ab71-ae4765721186')\"\n",
              "              title=\"Convert this dataframe to an interactive table.\"\n",
              "              style=\"display:none;\">\n",
              "        \n",
              "  <svg xmlns=\"http://www.w3.org/2000/svg\" height=\"24px\"viewBox=\"0 0 24 24\"\n",
              "       width=\"24px\">\n",
              "    <path d=\"M0 0h24v24H0V0z\" fill=\"none\"/>\n",
              "    <path d=\"M18.56 5.44l.94 2.06.94-2.06 2.06-.94-2.06-.94-.94-2.06-.94 2.06-2.06.94zm-11 1L8.5 8.5l.94-2.06 2.06-.94-2.06-.94L8.5 2.5l-.94 2.06-2.06.94zm10 10l.94 2.06.94-2.06 2.06-.94-2.06-.94-.94-2.06-.94 2.06-2.06.94z\"/><path d=\"M17.41 7.96l-1.37-1.37c-.4-.4-.92-.59-1.43-.59-.52 0-1.04.2-1.43.59L10.3 9.45l-7.72 7.72c-.78.78-.78 2.05 0 2.83L4 21.41c.39.39.9.59 1.41.59.51 0 1.02-.2 1.41-.59l7.78-7.78 2.81-2.81c.8-.78.8-2.07 0-2.86zM5.41 20L4 18.59l7.72-7.72 1.47 1.35L5.41 20z\"/>\n",
              "  </svg>\n",
              "      </button>\n",
              "      \n",
              "  <style>\n",
              "    .colab-df-container {\n",
              "      display:flex;\n",
              "      flex-wrap:wrap;\n",
              "      gap: 12px;\n",
              "    }\n",
              "\n",
              "    .colab-df-convert {\n",
              "      background-color: #E8F0FE;\n",
              "      border: none;\n",
              "      border-radius: 50%;\n",
              "      cursor: pointer;\n",
              "      display: none;\n",
              "      fill: #1967D2;\n",
              "      height: 32px;\n",
              "      padding: 0 0 0 0;\n",
              "      width: 32px;\n",
              "    }\n",
              "\n",
              "    .colab-df-convert:hover {\n",
              "      background-color: #E2EBFA;\n",
              "      box-shadow: 0px 1px 2px rgba(60, 64, 67, 0.3), 0px 1px 3px 1px rgba(60, 64, 67, 0.15);\n",
              "      fill: #174EA6;\n",
              "    }\n",
              "\n",
              "    [theme=dark] .colab-df-convert {\n",
              "      background-color: #3B4455;\n",
              "      fill: #D2E3FC;\n",
              "    }\n",
              "\n",
              "    [theme=dark] .colab-df-convert:hover {\n",
              "      background-color: #434B5C;\n",
              "      box-shadow: 0px 1px 3px 1px rgba(0, 0, 0, 0.15);\n",
              "      filter: drop-shadow(0px 1px 2px rgba(0, 0, 0, 0.3));\n",
              "      fill: #FFFFFF;\n",
              "    }\n",
              "  </style>\n",
              "\n",
              "      <script>\n",
              "        const buttonEl =\n",
              "          document.querySelector('#df-037622e4-3371-49a0-ab71-ae4765721186 button.colab-df-convert');\n",
              "        buttonEl.style.display =\n",
              "          google.colab.kernel.accessAllowed ? 'block' : 'none';\n",
              "\n",
              "        async function convertToInteractive(key) {\n",
              "          const element = document.querySelector('#df-037622e4-3371-49a0-ab71-ae4765721186');\n",
              "          const dataTable =\n",
              "            await google.colab.kernel.invokeFunction('convertToInteractive',\n",
              "                                                     [key], {});\n",
              "          if (!dataTable) return;\n",
              "\n",
              "          const docLinkHtml = 'Like what you see? Visit the ' +\n",
              "            '<a target=\"_blank\" href=https://colab.research.google.com/notebooks/data_table.ipynb>data table notebook</a>'\n",
              "            + ' to learn more about interactive tables.';\n",
              "          element.innerHTML = '';\n",
              "          dataTable['output_type'] = 'display_data';\n",
              "          await google.colab.output.renderOutput(dataTable, element);\n",
              "          const docLink = document.createElement('div');\n",
              "          docLink.innerHTML = docLinkHtml;\n",
              "          element.appendChild(docLink);\n",
              "        }\n",
              "      </script>\n",
              "    </div>\n",
              "  </div>\n",
              "  "
            ]
          },
          "metadata": {},
          "execution_count": 36
        }
      ]
    },
    {
      "cell_type": "markdown",
      "source": [
        "## Create label folders and move images"
      ],
      "metadata": {
        "id": "5osywLgS8h19"
      }
    },
    {
      "cell_type": "code",
      "source": [
        "dress_df_val = category_df_val[category_df_val.category == 'dress']\n",
        "pants_df_val = category_df_val[category_df_val.category == 'pants']\n",
        "out_df_val = category_df_val[category_df_val.category == 'outerwear']\n",
        "shoes_df_val = category_df_val[category_df_val.category == 'shoes']"
      ],
      "metadata": {
        "id": "GgCqCpRT8q4P"
      },
      "execution_count": 37,
      "outputs": []
    },
    {
      "cell_type": "code",
      "source": [
        "for i in ['pants', 'shoes', 'outerwear', 'dress']:\n",
        "    base_dir_val = '/content/project/validation'\n",
        "    source_val = '/content/validation_images'\n",
        "\n",
        "    destination_val = os.path.join(base_dir_val, i)\n",
        "\n",
        "    # gather all files\n",
        "    allfiles_val = list(category_df_val[category_df_val.category == i].imageId.unique())\n",
        "\n",
        "    # iterate on all files to move them to destination folder\n",
        "    for f in allfiles_val:\n",
        "        f = str(f) + '.jpg'\n",
        "        src_path_val = os.path.join(source_val, f)\n",
        "        dst_path_val = os.path.join(destination_val, f)\n",
        "        shutil.copy(src_path_val, dst_path_val)"
      ],
      "metadata": {
        "id": "0t0cdkWH8hMv"
      },
      "execution_count": null,
      "outputs": []
    },
    {
      "cell_type": "markdown",
      "source": [
        "# Data preprocessing"
      ],
      "metadata": {
        "id": "cFOetEhCWaEt"
      }
    },
    {
      "cell_type": "markdown",
      "source": [
        "# Other tasks"
      ],
      "metadata": {
        "id": "lQXgQiqEbGja"
      }
    },
    {
      "cell_type": "code",
      "source": [
        "# check for tasks with highest number of images\n",
        "a = annotations_df_keep.groupby('taskId').count().sort_values('labelId')\n",
        "pd.merge(a, tasks_df, \n",
        "         right_on = 'taskId', left_on = 'taskId').sort_values('labelId', ascending = False).head(10)"
      ],
      "metadata": {
        "colab": {
          "base_uri": "https://localhost:8080/",
          "height": 363
        },
        "id": "xM-Loqq7bJRC",
        "outputId": "ca627882-e489-48a4-fbb5-d7fe3ef58642"
      },
      "execution_count": null,
      "outputs": [
        {
          "output_type": "execute_result",
          "data": {
            "text/plain": [
              "    taskId  labelId  imageId            taskName   category label_to_predict\n",
              "44      21     2952     2952  outerwear:material  outerwear         material\n",
              "43      14     2825     2825      dress:occasion      dress         occasion\n",
              "42       6     2705     2705         dress:color      dress            color\n",
              "41      17     2561     2561     outerwear:color  outerwear            color\n",
              "40      11     2166     2166         pants:color      pants            color\n",
              "39       3     2063     2063          shoe:color       shoe            color\n",
              "38      26     1812     1812      pants:material      pants         material\n",
              "37      13     1615     1615      outerwear:type  outerwear             type\n",
              "36      24     1589     1589    pants:decoration      pants       decoration\n",
              "35       5     1478     1478    dress:decoration      dress       decoration"
            ],
            "text/html": [
              "\n",
              "  <div id=\"df-e1a36221-1ada-4fef-b64e-538da024ad59\">\n",
              "    <div class=\"colab-df-container\">\n",
              "      <div>\n",
              "<style scoped>\n",
              "    .dataframe tbody tr th:only-of-type {\n",
              "        vertical-align: middle;\n",
              "    }\n",
              "\n",
              "    .dataframe tbody tr th {\n",
              "        vertical-align: top;\n",
              "    }\n",
              "\n",
              "    .dataframe thead th {\n",
              "        text-align: right;\n",
              "    }\n",
              "</style>\n",
              "<table border=\"1\" class=\"dataframe\">\n",
              "  <thead>\n",
              "    <tr style=\"text-align: right;\">\n",
              "      <th></th>\n",
              "      <th>taskId</th>\n",
              "      <th>labelId</th>\n",
              "      <th>imageId</th>\n",
              "      <th>taskName</th>\n",
              "      <th>category</th>\n",
              "      <th>label_to_predict</th>\n",
              "    </tr>\n",
              "  </thead>\n",
              "  <tbody>\n",
              "    <tr>\n",
              "      <th>44</th>\n",
              "      <td>21</td>\n",
              "      <td>2952</td>\n",
              "      <td>2952</td>\n",
              "      <td>outerwear:material</td>\n",
              "      <td>outerwear</td>\n",
              "      <td>material</td>\n",
              "    </tr>\n",
              "    <tr>\n",
              "      <th>43</th>\n",
              "      <td>14</td>\n",
              "      <td>2825</td>\n",
              "      <td>2825</td>\n",
              "      <td>dress:occasion</td>\n",
              "      <td>dress</td>\n",
              "      <td>occasion</td>\n",
              "    </tr>\n",
              "    <tr>\n",
              "      <th>42</th>\n",
              "      <td>6</td>\n",
              "      <td>2705</td>\n",
              "      <td>2705</td>\n",
              "      <td>dress:color</td>\n",
              "      <td>dress</td>\n",
              "      <td>color</td>\n",
              "    </tr>\n",
              "    <tr>\n",
              "      <th>41</th>\n",
              "      <td>17</td>\n",
              "      <td>2561</td>\n",
              "      <td>2561</td>\n",
              "      <td>outerwear:color</td>\n",
              "      <td>outerwear</td>\n",
              "      <td>color</td>\n",
              "    </tr>\n",
              "    <tr>\n",
              "      <th>40</th>\n",
              "      <td>11</td>\n",
              "      <td>2166</td>\n",
              "      <td>2166</td>\n",
              "      <td>pants:color</td>\n",
              "      <td>pants</td>\n",
              "      <td>color</td>\n",
              "    </tr>\n",
              "    <tr>\n",
              "      <th>39</th>\n",
              "      <td>3</td>\n",
              "      <td>2063</td>\n",
              "      <td>2063</td>\n",
              "      <td>shoe:color</td>\n",
              "      <td>shoe</td>\n",
              "      <td>color</td>\n",
              "    </tr>\n",
              "    <tr>\n",
              "      <th>38</th>\n",
              "      <td>26</td>\n",
              "      <td>1812</td>\n",
              "      <td>1812</td>\n",
              "      <td>pants:material</td>\n",
              "      <td>pants</td>\n",
              "      <td>material</td>\n",
              "    </tr>\n",
              "    <tr>\n",
              "      <th>37</th>\n",
              "      <td>13</td>\n",
              "      <td>1615</td>\n",
              "      <td>1615</td>\n",
              "      <td>outerwear:type</td>\n",
              "      <td>outerwear</td>\n",
              "      <td>type</td>\n",
              "    </tr>\n",
              "    <tr>\n",
              "      <th>36</th>\n",
              "      <td>24</td>\n",
              "      <td>1589</td>\n",
              "      <td>1589</td>\n",
              "      <td>pants:decoration</td>\n",
              "      <td>pants</td>\n",
              "      <td>decoration</td>\n",
              "    </tr>\n",
              "    <tr>\n",
              "      <th>35</th>\n",
              "      <td>5</td>\n",
              "      <td>1478</td>\n",
              "      <td>1478</td>\n",
              "      <td>dress:decoration</td>\n",
              "      <td>dress</td>\n",
              "      <td>decoration</td>\n",
              "    </tr>\n",
              "  </tbody>\n",
              "</table>\n",
              "</div>\n",
              "      <button class=\"colab-df-convert\" onclick=\"convertToInteractive('df-e1a36221-1ada-4fef-b64e-538da024ad59')\"\n",
              "              title=\"Convert this dataframe to an interactive table.\"\n",
              "              style=\"display:none;\">\n",
              "        \n",
              "  <svg xmlns=\"http://www.w3.org/2000/svg\" height=\"24px\"viewBox=\"0 0 24 24\"\n",
              "       width=\"24px\">\n",
              "    <path d=\"M0 0h24v24H0V0z\" fill=\"none\"/>\n",
              "    <path d=\"M18.56 5.44l.94 2.06.94-2.06 2.06-.94-2.06-.94-.94-2.06-.94 2.06-2.06.94zm-11 1L8.5 8.5l.94-2.06 2.06-.94-2.06-.94L8.5 2.5l-.94 2.06-2.06.94zm10 10l.94 2.06.94-2.06 2.06-.94-2.06-.94-.94-2.06-.94 2.06-2.06.94z\"/><path d=\"M17.41 7.96l-1.37-1.37c-.4-.4-.92-.59-1.43-.59-.52 0-1.04.2-1.43.59L10.3 9.45l-7.72 7.72c-.78.78-.78 2.05 0 2.83L4 21.41c.39.39.9.59 1.41.59.51 0 1.02-.2 1.41-.59l7.78-7.78 2.81-2.81c.8-.78.8-2.07 0-2.86zM5.41 20L4 18.59l7.72-7.72 1.47 1.35L5.41 20z\"/>\n",
              "  </svg>\n",
              "      </button>\n",
              "      \n",
              "  <style>\n",
              "    .colab-df-container {\n",
              "      display:flex;\n",
              "      flex-wrap:wrap;\n",
              "      gap: 12px;\n",
              "    }\n",
              "\n",
              "    .colab-df-convert {\n",
              "      background-color: #E8F0FE;\n",
              "      border: none;\n",
              "      border-radius: 50%;\n",
              "      cursor: pointer;\n",
              "      display: none;\n",
              "      fill: #1967D2;\n",
              "      height: 32px;\n",
              "      padding: 0 0 0 0;\n",
              "      width: 32px;\n",
              "    }\n",
              "\n",
              "    .colab-df-convert:hover {\n",
              "      background-color: #E2EBFA;\n",
              "      box-shadow: 0px 1px 2px rgba(60, 64, 67, 0.3), 0px 1px 3px 1px rgba(60, 64, 67, 0.15);\n",
              "      fill: #174EA6;\n",
              "    }\n",
              "\n",
              "    [theme=dark] .colab-df-convert {\n",
              "      background-color: #3B4455;\n",
              "      fill: #D2E3FC;\n",
              "    }\n",
              "\n",
              "    [theme=dark] .colab-df-convert:hover {\n",
              "      background-color: #434B5C;\n",
              "      box-shadow: 0px 1px 3px 1px rgba(0, 0, 0, 0.15);\n",
              "      filter: drop-shadow(0px 1px 2px rgba(0, 0, 0, 0.3));\n",
              "      fill: #FFFFFF;\n",
              "    }\n",
              "  </style>\n",
              "\n",
              "      <script>\n",
              "        const buttonEl =\n",
              "          document.querySelector('#df-e1a36221-1ada-4fef-b64e-538da024ad59 button.colab-df-convert');\n",
              "        buttonEl.style.display =\n",
              "          google.colab.kernel.accessAllowed ? 'block' : 'none';\n",
              "\n",
              "        async function convertToInteractive(key) {\n",
              "          const element = document.querySelector('#df-e1a36221-1ada-4fef-b64e-538da024ad59');\n",
              "          const dataTable =\n",
              "            await google.colab.kernel.invokeFunction('convertToInteractive',\n",
              "                                                     [key], {});\n",
              "          if (!dataTable) return;\n",
              "\n",
              "          const docLinkHtml = 'Like what you see? Visit the ' +\n",
              "            '<a target=\"_blank\" href=https://colab.research.google.com/notebooks/data_table.ipynb>data table notebook</a>'\n",
              "            + ' to learn more about interactive tables.';\n",
              "          element.innerHTML = '';\n",
              "          dataTable['output_type'] = 'display_data';\n",
              "          await google.colab.output.renderOutput(dataTable, element);\n",
              "          const docLink = document.createElement('div');\n",
              "          docLink.innerHTML = docLinkHtml;\n",
              "          element.appendChild(docLink);\n",
              "        }\n",
              "      </script>\n",
              "    </div>\n",
              "  </div>\n",
              "  "
            ]
          },
          "metadata": {},
          "execution_count": 49
        }
      ]
    },
    {
      "cell_type": "code",
      "source": [
        "# create complete df with image id, category, task info and label info\n",
        "temp = pd.merge(annotations_df_keep, labels_df, how = 'inner')\n",
        "complete = pd.merge(temp, tasks_df, how = 'inner')\n",
        "complete = complete[['imageId', 'category', 'taskId','taskName','label_to_predict','labelId','labelName']]\n",
        "complete.head()"
      ],
      "metadata": {
        "colab": {
          "base_uri": "https://localhost:8080/",
          "height": 206
        },
        "id": "j4YsD7Vwchww",
        "outputId": "bf259c23-8531-4ea5-9265-f44def93e09c"
      },
      "execution_count": null,
      "outputs": [
        {
          "output_type": "execute_result",
          "data": {
            "text/plain": [
              "   imageId category  taskId          taskName label_to_predict  labelId  \\\n",
              "0        1    dress       5  dress:decoration       decoration        6   \n",
              "1      108    dress       5  dress:decoration       decoration        6   \n",
              "2      203    dress       5  dress:decoration       decoration        6   \n",
              "3      864    dress       5  dress:decoration       decoration        6   \n",
              "4     1058    dress       5  dress:decoration       decoration        6   \n",
              "\n",
              "  labelName  \n",
              "0   printed  \n",
              "1   printed  \n",
              "2   printed  \n",
              "3   printed  \n",
              "4   printed  "
            ],
            "text/html": [
              "\n",
              "  <div id=\"df-e13f6709-80c2-4af5-baf8-0b38363fde3e\">\n",
              "    <div class=\"colab-df-container\">\n",
              "      <div>\n",
              "<style scoped>\n",
              "    .dataframe tbody tr th:only-of-type {\n",
              "        vertical-align: middle;\n",
              "    }\n",
              "\n",
              "    .dataframe tbody tr th {\n",
              "        vertical-align: top;\n",
              "    }\n",
              "\n",
              "    .dataframe thead th {\n",
              "        text-align: right;\n",
              "    }\n",
              "</style>\n",
              "<table border=\"1\" class=\"dataframe\">\n",
              "  <thead>\n",
              "    <tr style=\"text-align: right;\">\n",
              "      <th></th>\n",
              "      <th>imageId</th>\n",
              "      <th>category</th>\n",
              "      <th>taskId</th>\n",
              "      <th>taskName</th>\n",
              "      <th>label_to_predict</th>\n",
              "      <th>labelId</th>\n",
              "      <th>labelName</th>\n",
              "    </tr>\n",
              "  </thead>\n",
              "  <tbody>\n",
              "    <tr>\n",
              "      <th>0</th>\n",
              "      <td>1</td>\n",
              "      <td>dress</td>\n",
              "      <td>5</td>\n",
              "      <td>dress:decoration</td>\n",
              "      <td>decoration</td>\n",
              "      <td>6</td>\n",
              "      <td>printed</td>\n",
              "    </tr>\n",
              "    <tr>\n",
              "      <th>1</th>\n",
              "      <td>108</td>\n",
              "      <td>dress</td>\n",
              "      <td>5</td>\n",
              "      <td>dress:decoration</td>\n",
              "      <td>decoration</td>\n",
              "      <td>6</td>\n",
              "      <td>printed</td>\n",
              "    </tr>\n",
              "    <tr>\n",
              "      <th>2</th>\n",
              "      <td>203</td>\n",
              "      <td>dress</td>\n",
              "      <td>5</td>\n",
              "      <td>dress:decoration</td>\n",
              "      <td>decoration</td>\n",
              "      <td>6</td>\n",
              "      <td>printed</td>\n",
              "    </tr>\n",
              "    <tr>\n",
              "      <th>3</th>\n",
              "      <td>864</td>\n",
              "      <td>dress</td>\n",
              "      <td>5</td>\n",
              "      <td>dress:decoration</td>\n",
              "      <td>decoration</td>\n",
              "      <td>6</td>\n",
              "      <td>printed</td>\n",
              "    </tr>\n",
              "    <tr>\n",
              "      <th>4</th>\n",
              "      <td>1058</td>\n",
              "      <td>dress</td>\n",
              "      <td>5</td>\n",
              "      <td>dress:decoration</td>\n",
              "      <td>decoration</td>\n",
              "      <td>6</td>\n",
              "      <td>printed</td>\n",
              "    </tr>\n",
              "  </tbody>\n",
              "</table>\n",
              "</div>\n",
              "      <button class=\"colab-df-convert\" onclick=\"convertToInteractive('df-e13f6709-80c2-4af5-baf8-0b38363fde3e')\"\n",
              "              title=\"Convert this dataframe to an interactive table.\"\n",
              "              style=\"display:none;\">\n",
              "        \n",
              "  <svg xmlns=\"http://www.w3.org/2000/svg\" height=\"24px\"viewBox=\"0 0 24 24\"\n",
              "       width=\"24px\">\n",
              "    <path d=\"M0 0h24v24H0V0z\" fill=\"none\"/>\n",
              "    <path d=\"M18.56 5.44l.94 2.06.94-2.06 2.06-.94-2.06-.94-.94-2.06-.94 2.06-2.06.94zm-11 1L8.5 8.5l.94-2.06 2.06-.94-2.06-.94L8.5 2.5l-.94 2.06-2.06.94zm10 10l.94 2.06.94-2.06 2.06-.94-2.06-.94-.94-2.06-.94 2.06-2.06.94z\"/><path d=\"M17.41 7.96l-1.37-1.37c-.4-.4-.92-.59-1.43-.59-.52 0-1.04.2-1.43.59L10.3 9.45l-7.72 7.72c-.78.78-.78 2.05 0 2.83L4 21.41c.39.39.9.59 1.41.59.51 0 1.02-.2 1.41-.59l7.78-7.78 2.81-2.81c.8-.78.8-2.07 0-2.86zM5.41 20L4 18.59l7.72-7.72 1.47 1.35L5.41 20z\"/>\n",
              "  </svg>\n",
              "      </button>\n",
              "      \n",
              "  <style>\n",
              "    .colab-df-container {\n",
              "      display:flex;\n",
              "      flex-wrap:wrap;\n",
              "      gap: 12px;\n",
              "    }\n",
              "\n",
              "    .colab-df-convert {\n",
              "      background-color: #E8F0FE;\n",
              "      border: none;\n",
              "      border-radius: 50%;\n",
              "      cursor: pointer;\n",
              "      display: none;\n",
              "      fill: #1967D2;\n",
              "      height: 32px;\n",
              "      padding: 0 0 0 0;\n",
              "      width: 32px;\n",
              "    }\n",
              "\n",
              "    .colab-df-convert:hover {\n",
              "      background-color: #E2EBFA;\n",
              "      box-shadow: 0px 1px 2px rgba(60, 64, 67, 0.3), 0px 1px 3px 1px rgba(60, 64, 67, 0.15);\n",
              "      fill: #174EA6;\n",
              "    }\n",
              "\n",
              "    [theme=dark] .colab-df-convert {\n",
              "      background-color: #3B4455;\n",
              "      fill: #D2E3FC;\n",
              "    }\n",
              "\n",
              "    [theme=dark] .colab-df-convert:hover {\n",
              "      background-color: #434B5C;\n",
              "      box-shadow: 0px 1px 3px 1px rgba(0, 0, 0, 0.15);\n",
              "      filter: drop-shadow(0px 1px 2px rgba(0, 0, 0, 0.3));\n",
              "      fill: #FFFFFF;\n",
              "    }\n",
              "  </style>\n",
              "\n",
              "      <script>\n",
              "        const buttonEl =\n",
              "          document.querySelector('#df-e13f6709-80c2-4af5-baf8-0b38363fde3e button.colab-df-convert');\n",
              "        buttonEl.style.display =\n",
              "          google.colab.kernel.accessAllowed ? 'block' : 'none';\n",
              "\n",
              "        async function convertToInteractive(key) {\n",
              "          const element = document.querySelector('#df-e13f6709-80c2-4af5-baf8-0b38363fde3e');\n",
              "          const dataTable =\n",
              "            await google.colab.kernel.invokeFunction('convertToInteractive',\n",
              "                                                     [key], {});\n",
              "          if (!dataTable) return;\n",
              "\n",
              "          const docLinkHtml = 'Like what you see? Visit the ' +\n",
              "            '<a target=\"_blank\" href=https://colab.research.google.com/notebooks/data_table.ipynb>data table notebook</a>'\n",
              "            + ' to learn more about interactive tables.';\n",
              "          element.innerHTML = '';\n",
              "          dataTable['output_type'] = 'display_data';\n",
              "          await google.colab.output.renderOutput(dataTable, element);\n",
              "          const docLink = document.createElement('div');\n",
              "          docLink.innerHTML = docLinkHtml;\n",
              "          element.appendChild(docLink);\n",
              "        }\n",
              "      </script>\n",
              "    </div>\n",
              "  </div>\n",
              "  "
            ]
          },
          "metadata": {},
          "execution_count": 58
        }
      ]
    },
    {
      "cell_type": "code",
      "source": [
        "# task to investigate\n",
        "t = 21\n",
        "task_t_df = complete[complete.taskId == t]"
      ],
      "metadata": {
        "id": "qW83_cCDbQNP"
      },
      "execution_count": null,
      "outputs": []
    },
    {
      "cell_type": "code",
      "source": [
        "print('Number of images:', len(task_t_df.imageId.unique()))\n",
        "print('Number of unique labels:', len(task_t_df.labelId.unique()))\n",
        "task_t_df.groupby('labelName').count()['imageId'].plot.barh(figsize = (6,10))\n",
        "plt.show()"
      ],
      "metadata": {
        "colab": {
          "base_uri": "https://localhost:8080/",
          "height": 627
        },
        "id": "jJj8LR6ibdDe",
        "outputId": "3b9ece47-486c-4a7b-9ee4-499e10801250"
      },
      "execution_count": null,
      "outputs": [
        {
          "output_type": "stream",
          "name": "stdout",
          "text": [
            "Number of images: 2589\n",
            "Number of unique labels: 44\n"
          ]
        },
        {
          "output_type": "display_data",
          "data": {
            "text/plain": [
              "<Figure size 432x720 with 1 Axes>"
            ],
            "image/png": "[encoded data removed]"
          },
          "metadata": {
            "needs_background": "light"
          }
        }
      ]
    }
  ]
}